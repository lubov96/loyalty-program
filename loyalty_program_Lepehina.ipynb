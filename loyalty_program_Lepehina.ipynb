{
 "cells": [
  {
   "cell_type": "markdown",
   "id": "ba9f6e88",
   "metadata": {},
   "source": [
    "# Анализ программы лояльности\n",
    "\n",
    "Датасет содержит данные о покупках в магазине строительных материалов «Строили, строили и наконец построили». Все покупатели могут получить доступ в магазин с использованием персональных карт. За 200 рублей в месяц они могут стать участниками программы лояльности. В программу включены скидки, специальные предложения, подарки.\n",
    "\n",
    "#### Цель проекта:\n",
    "Оценить эффективность программы лояльности.\n",
    "\n",
    "#### Задачи проекта:\n",
    "1. Провести исследовательский анализ;\n",
    "2. Определить ритейл-метрики и расчитать их;\n",
    "3. Провести анализ эффективности программы лояльности;\n",
    "4. Проверить гипотезы;\n",
    "5. Сделать выводы и дать рекомендации.\n",
    "\n",
    "#### План анализа:\n",
    "\n",
    "1. Загрузка и изучение данных:\n",
    "    * Загрузить данные;\n",
    "    * Изучить данные;\n",
    "    * Сделать вывод и определить план предобработки данных.\n",
    "2. Предобработка данных:\n",
    "    * Объединить таблицы в одну;\n",
    "    * Привести названия столбцов к общепринятому виду;\n",
    "    * Проверить данные на дубликаты (явные и неявные);\n",
    "    * Проверить данные на пропуски;\n",
    "    * Обработать пропуски или сделать вывод об отсутствии необходимости их обработки;\n",
    "    * Проверить типы данных и при необходимости привести к другим типам;\n",
    "    * Проверить данные на аномалии;\n",
    "    * Добавить поле \"Месяц покупки\";\n",
    "    * Добавить поле \"Сумма покупки\", которое будет хранить произведение полей \"Стоимость одной единицы товара\" и \"Кол-во товара\".\n",
    "3. Исследовательский анализ данных:\n",
    "    * Изучить распределение количества покупок во времени в разрезе категории лояльности;\n",
    "    * Изучить распределение количества покупателей во времени в разрезе категории лояльности;\n",
    "    * Изучить в каких магазинах сети больше всего продаж.\n",
    "4. Проверка эффективности программы лояльности:  \n",
    "В качестве метрик для расчета будут использоваться **средний чек, среднее количество покупок, LTV**. *Будем считать программу лояльности эффективной, если 2 и 3 метрик будут положительны.*\n",
    "    * Расчитать средний чек в разрезе категории лояльности;\n",
    "    * Расчитать среднее количество покупок в разрезе категории лояльности;\n",
    "    * Расчитать LTV в разрезе категории лояльности;\n",
    "    * Сделать вывод об эффективности программы лояльности.\n",
    "5. Проверка гипотез:\n",
    "    * Проверить гипотезу \"*Средний чек участников программы лояльности  выше, чем у остальных покупателей*\";\n",
    "    * Проверить гипотезу \"*Участники программы лояльности совершают больше покупок в месяц, чем остальные покупатели*\".\n",
    "6. Выводы и рекомендации:\n",
    "    * Сделать подробный вывод об эффективности программы лояльности;\n",
    "    * Дать рекомендации заказчику;\n",
    "    * Подготовить презентацию заказчику;\n",
    "    * Подготовить дашборд для коммерческого департамента, содержащий:\n",
    "        * гистограмму, отображающую количество покупок на покупателей;\n",
    "        * диаграмму, отображающую соотношение количества покупок по различным магазинам;\n",
    "        * фильтр по дате совершения покупки.\n",
    "    \n",
    "*в разрезе программы лояльности - расчитать отдельно для участников программы лояльности и остальных покупателей."
   ]
  },
  {
   "cell_type": "markdown",
   "id": "8e4bd4a8",
   "metadata": {},
   "source": [
    "### Загрузка и изучение данных\n",
    "\n",
    "Для начала импортируем необходимые библиотеки:"
   ]
  },
  {
   "cell_type": "code",
   "execution_count": 1,
   "id": "295f056a",
   "metadata": {},
   "outputs": [],
   "source": [
    "import pandas as pd\n",
    "import datetime as dt\n",
    "import numpy as np\n",
    "import matplotlib.pyplot as plt\n",
    "import seaborn as sns\n",
    "from scipy import stats as st"
   ]
  },
  {
   "cell_type": "markdown",
   "id": "f310b522",
   "metadata": {},
   "source": [
    "Загрузим данные:"
   ]
  },
  {
   "cell_type": "code",
   "execution_count": 2,
   "id": "b55e32b7",
   "metadata": {},
   "outputs": [],
   "source": [
    "try:\n",
    "    data = pd.read_csv('/datasets/retail_dataset.csv') # откроем файл,\n",
    "    product_data = pd.read_csv('/datasets/product_codes.csv')\n",
    "except:\n",
    "    data = pd.read_csv('https://code.s3.yandex.net/datasets/retail_dataset.csv') # если не удалось, возьмем данные с сайта\n",
    "    product_data = pd.read_csv('https://code.s3.yandex.net/datasets/product_codes.csv')"
   ]
  },
  {
   "cell_type": "markdown",
   "id": "18ecc243",
   "metadata": {},
   "source": [
    "Изучим первые 20 строк каждого датафрейма:"
   ]
  },
  {
   "cell_type": "code",
   "execution_count": 3,
   "id": "52e5da0d",
   "metadata": {},
   "outputs": [
    {
     "data": {
      "text/html": [
       "<div>\n",
       "<style scoped>\n",
       "    .dataframe tbody tr th:only-of-type {\n",
       "        vertical-align: middle;\n",
       "    }\n",
       "\n",
       "    .dataframe tbody tr th {\n",
       "        vertical-align: top;\n",
       "    }\n",
       "\n",
       "    .dataframe thead th {\n",
       "        text-align: right;\n",
       "    }\n",
       "</style>\n",
       "<table border=\"1\" class=\"dataframe\">\n",
       "  <thead>\n",
       "    <tr style=\"text-align: right;\">\n",
       "      <th></th>\n",
       "      <th>purchaseid</th>\n",
       "      <th>item_ID</th>\n",
       "      <th>Quantity</th>\n",
       "      <th>purchasedate</th>\n",
       "      <th>CustomerID</th>\n",
       "      <th>ShopID</th>\n",
       "      <th>loyalty_program</th>\n",
       "    </tr>\n",
       "  </thead>\n",
       "  <tbody>\n",
       "    <tr>\n",
       "      <th>0</th>\n",
       "      <td>538280</td>\n",
       "      <td>21873</td>\n",
       "      <td>11</td>\n",
       "      <td>2016-12-10 12:50:00</td>\n",
       "      <td>18427.0</td>\n",
       "      <td>Shop 0</td>\n",
       "      <td>0.0</td>\n",
       "    </tr>\n",
       "    <tr>\n",
       "      <th>1</th>\n",
       "      <td>538862</td>\n",
       "      <td>22195</td>\n",
       "      <td>0</td>\n",
       "      <td>2016-12-14 14:11:00</td>\n",
       "      <td>22389.0</td>\n",
       "      <td>Shop 0</td>\n",
       "      <td>1.0</td>\n",
       "    </tr>\n",
       "    <tr>\n",
       "      <th>2</th>\n",
       "      <td>538855</td>\n",
       "      <td>21239</td>\n",
       "      <td>7</td>\n",
       "      <td>2016-12-14 13:50:00</td>\n",
       "      <td>22182.0</td>\n",
       "      <td>Shop 0</td>\n",
       "      <td>1.0</td>\n",
       "    </tr>\n",
       "    <tr>\n",
       "      <th>3</th>\n",
       "      <td>543543</td>\n",
       "      <td>22271</td>\n",
       "      <td>0</td>\n",
       "      <td>2017-02-09 15:33:00</td>\n",
       "      <td>23522.0</td>\n",
       "      <td>Shop 0</td>\n",
       "      <td>1.0</td>\n",
       "    </tr>\n",
       "    <tr>\n",
       "      <th>4</th>\n",
       "      <td>543812</td>\n",
       "      <td>79321</td>\n",
       "      <td>0</td>\n",
       "      <td>2017-02-13 14:40:00</td>\n",
       "      <td>23151.0</td>\n",
       "      <td>Shop 0</td>\n",
       "      <td>1.0</td>\n",
       "    </tr>\n",
       "    <tr>\n",
       "      <th>5</th>\n",
       "      <td>538379</td>\n",
       "      <td>22965</td>\n",
       "      <td>0</td>\n",
       "      <td>2016-12-12 11:26:00</td>\n",
       "      <td>22805.0</td>\n",
       "      <td>Shop 0</td>\n",
       "      <td>1.0</td>\n",
       "    </tr>\n",
       "    <tr>\n",
       "      <th>6</th>\n",
       "      <td>540468</td>\n",
       "      <td>22189</td>\n",
       "      <td>0</td>\n",
       "      <td>2017-01-07 13:55:00</td>\n",
       "      <td>NaN</td>\n",
       "      <td>Shop 0</td>\n",
       "      <td>0.0</td>\n",
       "    </tr>\n",
       "    <tr>\n",
       "      <th>7</th>\n",
       "      <td>541424</td>\n",
       "      <td>79321</td>\n",
       "      <td>1</td>\n",
       "      <td>2017-01-17 17:57:00</td>\n",
       "      <td>NaN</td>\n",
       "      <td>Shop 0</td>\n",
       "      <td>0.0</td>\n",
       "    </tr>\n",
       "    <tr>\n",
       "      <th>8</th>\n",
       "      <td>538883</td>\n",
       "      <td>22891</td>\n",
       "      <td>0</td>\n",
       "      <td>2016-12-14 15:56:00</td>\n",
       "      <td>NaN</td>\n",
       "      <td>Shop 0</td>\n",
       "      <td>0.0</td>\n",
       "    </tr>\n",
       "    <tr>\n",
       "      <th>9</th>\n",
       "      <td>539501</td>\n",
       "      <td>22372</td>\n",
       "      <td>0</td>\n",
       "      <td>2016-12-20 11:08:00</td>\n",
       "      <td>22764.0</td>\n",
       "      <td>Shop 0</td>\n",
       "      <td>1.0</td>\n",
       "    </tr>\n",
       "    <tr>\n",
       "      <th>10</th>\n",
       "      <td>537795</td>\n",
       "      <td>82494L</td>\n",
       "      <td>5</td>\n",
       "      <td>2016-12-08 13:03:00</td>\n",
       "      <td>22892.0</td>\n",
       "      <td>Shop 0</td>\n",
       "      <td>1.0</td>\n",
       "    </tr>\n",
       "    <tr>\n",
       "      <th>11</th>\n",
       "      <td>541696</td>\n",
       "      <td>22197</td>\n",
       "      <td>4</td>\n",
       "      <td>2017-01-20 18:08:00</td>\n",
       "      <td>NaN</td>\n",
       "      <td>Shop 0</td>\n",
       "      <td>0.0</td>\n",
       "    </tr>\n",
       "    <tr>\n",
       "      <th>12</th>\n",
       "      <td>543647</td>\n",
       "      <td>21987</td>\n",
       "      <td>3</td>\n",
       "      <td>2017-02-10 19:49:00</td>\n",
       "      <td>18520.0</td>\n",
       "      <td>Shop 0</td>\n",
       "      <td>0.0</td>\n",
       "    </tr>\n",
       "    <tr>\n",
       "      <th>13</th>\n",
       "      <td>538533</td>\n",
       "      <td>22294</td>\n",
       "      <td>9</td>\n",
       "      <td>2016-12-13 10:31:00</td>\n",
       "      <td>20475.0</td>\n",
       "      <td>Shop 0</td>\n",
       "      <td>0.0</td>\n",
       "    </tr>\n",
       "    <tr>\n",
       "      <th>14</th>\n",
       "      <td>545180</td>\n",
       "      <td>22352</td>\n",
       "      <td>5</td>\n",
       "      <td>2017-02-28 14:42:00</td>\n",
       "      <td>18407.0</td>\n",
       "      <td>Shop 1</td>\n",
       "      <td>0.0</td>\n",
       "    </tr>\n",
       "    <tr>\n",
       "      <th>15</th>\n",
       "      <td>545053</td>\n",
       "      <td>22289</td>\n",
       "      <td>0</td>\n",
       "      <td>2017-02-27 12:41:00</td>\n",
       "      <td>23195.0</td>\n",
       "      <td>Shop 0</td>\n",
       "      <td>1.0</td>\n",
       "    </tr>\n",
       "    <tr>\n",
       "      <th>16</th>\n",
       "      <td>539744</td>\n",
       "      <td>22300</td>\n",
       "      <td>5</td>\n",
       "      <td>2016-12-21 15:21:00</td>\n",
       "      <td>NaN</td>\n",
       "      <td>Shop 0</td>\n",
       "      <td>0.0</td>\n",
       "    </tr>\n",
       "    <tr>\n",
       "      <th>17</th>\n",
       "      <td>541838</td>\n",
       "      <td>84949</td>\n",
       "      <td>11</td>\n",
       "      <td>2017-01-23 10:43:00</td>\n",
       "      <td>18595.0</td>\n",
       "      <td>Shop 0</td>\n",
       "      <td>0.0</td>\n",
       "    </tr>\n",
       "    <tr>\n",
       "      <th>18</th>\n",
       "      <td>543193</td>\n",
       "      <td>22839</td>\n",
       "      <td>3</td>\n",
       "      <td>2017-02-04 12:18:00</td>\n",
       "      <td>19404.0</td>\n",
       "      <td>Shop 0</td>\n",
       "      <td>0.0</td>\n",
       "    </tr>\n",
       "    <tr>\n",
       "      <th>19</th>\n",
       "      <td>545059</td>\n",
       "      <td>22336</td>\n",
       "      <td>0</td>\n",
       "      <td>2017-02-27 13:04:00</td>\n",
       "      <td>19836.0</td>\n",
       "      <td>Shop 0</td>\n",
       "      <td>0.0</td>\n",
       "    </tr>\n",
       "  </tbody>\n",
       "</table>\n",
       "</div>"
      ],
      "text/plain": [
       "   purchaseid item_ID  Quantity         purchasedate  CustomerID  ShopID  \\\n",
       "0      538280   21873        11  2016-12-10 12:50:00     18427.0  Shop 0   \n",
       "1      538862   22195         0  2016-12-14 14:11:00     22389.0  Shop 0   \n",
       "2      538855   21239         7  2016-12-14 13:50:00     22182.0  Shop 0   \n",
       "3      543543   22271         0  2017-02-09 15:33:00     23522.0  Shop 0   \n",
       "4      543812   79321         0  2017-02-13 14:40:00     23151.0  Shop 0   \n",
       "5      538379   22965         0  2016-12-12 11:26:00     22805.0  Shop 0   \n",
       "6      540468   22189         0  2017-01-07 13:55:00         NaN  Shop 0   \n",
       "7      541424   79321         1  2017-01-17 17:57:00         NaN  Shop 0   \n",
       "8      538883   22891         0  2016-12-14 15:56:00         NaN  Shop 0   \n",
       "9      539501   22372         0  2016-12-20 11:08:00     22764.0  Shop 0   \n",
       "10     537795  82494L         5  2016-12-08 13:03:00     22892.0  Shop 0   \n",
       "11     541696   22197         4  2017-01-20 18:08:00         NaN  Shop 0   \n",
       "12     543647   21987         3  2017-02-10 19:49:00     18520.0  Shop 0   \n",
       "13     538533   22294         9  2016-12-13 10:31:00     20475.0  Shop 0   \n",
       "14     545180   22352         5  2017-02-28 14:42:00     18407.0  Shop 1   \n",
       "15     545053   22289         0  2017-02-27 12:41:00     23195.0  Shop 0   \n",
       "16     539744   22300         5  2016-12-21 15:21:00         NaN  Shop 0   \n",
       "17     541838   84949        11  2017-01-23 10:43:00     18595.0  Shop 0   \n",
       "18     543193   22839         3  2017-02-04 12:18:00     19404.0  Shop 0   \n",
       "19     545059   22336         0  2017-02-27 13:04:00     19836.0  Shop 0   \n",
       "\n",
       "    loyalty_program  \n",
       "0               0.0  \n",
       "1               1.0  \n",
       "2               1.0  \n",
       "3               1.0  \n",
       "4               1.0  \n",
       "5               1.0  \n",
       "6               0.0  \n",
       "7               0.0  \n",
       "8               0.0  \n",
       "9               1.0  \n",
       "10              1.0  \n",
       "11              0.0  \n",
       "12              0.0  \n",
       "13              0.0  \n",
       "14              0.0  \n",
       "15              1.0  \n",
       "16              0.0  \n",
       "17              0.0  \n",
       "18              0.0  \n",
       "19              0.0  "
      ]
     },
     "execution_count": 3,
     "metadata": {},
     "output_type": "execute_result"
    }
   ],
   "source": [
    "data.head(20)"
   ]
  },
  {
   "cell_type": "code",
   "execution_count": 4,
   "id": "1b067ccb",
   "metadata": {},
   "outputs": [
    {
     "data": {
      "text/html": [
       "<div>\n",
       "<style scoped>\n",
       "    .dataframe tbody tr th:only-of-type {\n",
       "        vertical-align: middle;\n",
       "    }\n",
       "\n",
       "    .dataframe tbody tr th {\n",
       "        vertical-align: top;\n",
       "    }\n",
       "\n",
       "    .dataframe thead th {\n",
       "        text-align: right;\n",
       "    }\n",
       "</style>\n",
       "<table border=\"1\" class=\"dataframe\">\n",
       "  <thead>\n",
       "    <tr style=\"text-align: right;\">\n",
       "      <th></th>\n",
       "      <th>productID</th>\n",
       "      <th>price_per_one</th>\n",
       "    </tr>\n",
       "  </thead>\n",
       "  <tbody>\n",
       "    <tr>\n",
       "      <th>0</th>\n",
       "      <td>85123A</td>\n",
       "      <td>2.55</td>\n",
       "    </tr>\n",
       "    <tr>\n",
       "      <th>1</th>\n",
       "      <td>71053</td>\n",
       "      <td>3.39</td>\n",
       "    </tr>\n",
       "    <tr>\n",
       "      <th>2</th>\n",
       "      <td>84406B</td>\n",
       "      <td>2.75</td>\n",
       "    </tr>\n",
       "    <tr>\n",
       "      <th>3</th>\n",
       "      <td>84029G</td>\n",
       "      <td>3.39</td>\n",
       "    </tr>\n",
       "    <tr>\n",
       "      <th>4</th>\n",
       "      <td>84029E</td>\n",
       "      <td>3.39</td>\n",
       "    </tr>\n",
       "    <tr>\n",
       "      <th>5</th>\n",
       "      <td>22752</td>\n",
       "      <td>7.65</td>\n",
       "    </tr>\n",
       "    <tr>\n",
       "      <th>6</th>\n",
       "      <td>21730</td>\n",
       "      <td>4.25</td>\n",
       "    </tr>\n",
       "    <tr>\n",
       "      <th>7</th>\n",
       "      <td>22633</td>\n",
       "      <td>1.85</td>\n",
       "    </tr>\n",
       "    <tr>\n",
       "      <th>8</th>\n",
       "      <td>22632</td>\n",
       "      <td>1.85</td>\n",
       "    </tr>\n",
       "    <tr>\n",
       "      <th>9</th>\n",
       "      <td>84879</td>\n",
       "      <td>1.69</td>\n",
       "    </tr>\n",
       "    <tr>\n",
       "      <th>10</th>\n",
       "      <td>22745</td>\n",
       "      <td>2.10</td>\n",
       "    </tr>\n",
       "    <tr>\n",
       "      <th>11</th>\n",
       "      <td>22748</td>\n",
       "      <td>2.10</td>\n",
       "    </tr>\n",
       "    <tr>\n",
       "      <th>12</th>\n",
       "      <td>22749</td>\n",
       "      <td>3.75</td>\n",
       "    </tr>\n",
       "    <tr>\n",
       "      <th>13</th>\n",
       "      <td>22310</td>\n",
       "      <td>1.65</td>\n",
       "    </tr>\n",
       "    <tr>\n",
       "      <th>14</th>\n",
       "      <td>84969</td>\n",
       "      <td>4.25</td>\n",
       "    </tr>\n",
       "    <tr>\n",
       "      <th>15</th>\n",
       "      <td>22623</td>\n",
       "      <td>4.95</td>\n",
       "    </tr>\n",
       "    <tr>\n",
       "      <th>16</th>\n",
       "      <td>22622</td>\n",
       "      <td>9.95</td>\n",
       "    </tr>\n",
       "    <tr>\n",
       "      <th>17</th>\n",
       "      <td>21754</td>\n",
       "      <td>5.95</td>\n",
       "    </tr>\n",
       "    <tr>\n",
       "      <th>18</th>\n",
       "      <td>21755</td>\n",
       "      <td>5.95</td>\n",
       "    </tr>\n",
       "    <tr>\n",
       "      <th>19</th>\n",
       "      <td>21777</td>\n",
       "      <td>7.95</td>\n",
       "    </tr>\n",
       "  </tbody>\n",
       "</table>\n",
       "</div>"
      ],
      "text/plain": [
       "   productID  price_per_one\n",
       "0     85123A           2.55\n",
       "1      71053           3.39\n",
       "2     84406B           2.75\n",
       "3     84029G           3.39\n",
       "4     84029E           3.39\n",
       "5      22752           7.65\n",
       "6      21730           4.25\n",
       "7      22633           1.85\n",
       "8      22632           1.85\n",
       "9      84879           1.69\n",
       "10     22745           2.10\n",
       "11     22748           2.10\n",
       "12     22749           3.75\n",
       "13     22310           1.65\n",
       "14     84969           4.25\n",
       "15     22623           4.95\n",
       "16     22622           9.95\n",
       "17     21754           5.95\n",
       "18     21755           5.95\n",
       "19     21777           7.95"
      ]
     },
     "execution_count": 4,
     "metadata": {},
     "output_type": "execute_result"
    }
   ],
   "source": [
    "product_data.head(20)"
   ]
  },
  {
   "cell_type": "markdown",
   "id": "139426da",
   "metadata": {},
   "source": [
    "Изучим информацию о данных:"
   ]
  },
  {
   "cell_type": "code",
   "execution_count": 5,
   "id": "0aeb11fc",
   "metadata": {},
   "outputs": [
    {
     "name": "stdout",
     "output_type": "stream",
     "text": [
      "<class 'pandas.core.frame.DataFrame'>\n",
      "RangeIndex: 105335 entries, 0 to 105334\n",
      "Data columns (total 7 columns):\n",
      " #   Column           Non-Null Count   Dtype  \n",
      "---  ------           --------------   -----  \n",
      " 0   purchaseid       105335 non-null  object \n",
      " 1   item_ID          105335 non-null  object \n",
      " 2   Quantity         105335 non-null  int64  \n",
      " 3   purchasedate     105335 non-null  object \n",
      " 4   CustomerID       69125 non-null   float64\n",
      " 5   ShopID           105335 non-null  object \n",
      " 6   loyalty_program  105335 non-null  float64\n",
      "dtypes: float64(2), int64(1), object(4)\n",
      "memory usage: 5.6+ MB\n"
     ]
    }
   ],
   "source": [
    "data.info()"
   ]
  },
  {
   "cell_type": "code",
   "execution_count": 6,
   "id": "09297a2f",
   "metadata": {},
   "outputs": [
    {
     "name": "stdout",
     "output_type": "stream",
     "text": [
      "<class 'pandas.core.frame.DataFrame'>\n",
      "RangeIndex: 9969 entries, 0 to 9968\n",
      "Data columns (total 2 columns):\n",
      " #   Column         Non-Null Count  Dtype  \n",
      "---  ------         --------------  -----  \n",
      " 0   productID      9969 non-null   object \n",
      " 1   price_per_one  9969 non-null   float64\n",
      "dtypes: float64(1), object(1)\n",
      "memory usage: 155.9+ KB\n"
     ]
    }
   ],
   "source": [
    "product_data.info()"
   ]
  },
  {
   "cell_type": "markdown",
   "id": "73515171",
   "metadata": {},
   "source": [
    "Проверим за какой отрезок времени присутствуют данные:"
   ]
  },
  {
   "cell_type": "code",
   "execution_count": 7,
   "id": "f1b8cad2",
   "metadata": {},
   "outputs": [
    {
     "data": {
      "text/plain": [
       "'2016-12-01 08:26:00'"
      ]
     },
     "execution_count": 7,
     "metadata": {},
     "output_type": "execute_result"
    }
   ],
   "source": [
    "data['purchasedate'].min()"
   ]
  },
  {
   "cell_type": "code",
   "execution_count": 8,
   "id": "d46dbae2",
   "metadata": {},
   "outputs": [
    {
     "data": {
      "text/plain": [
       "'2017-02-28 17:04:00'"
      ]
     },
     "execution_count": 8,
     "metadata": {},
     "output_type": "execute_result"
    }
   ],
   "source": [
    "data['purchasedate'].max()"
   ]
  },
  {
   "cell_type": "markdown",
   "id": "886125e8",
   "metadata": {},
   "source": [
    "В данных присутствуют записи о 105335 покупках за 3 месяца.\n",
    "\n",
    "Данные нуждаются в предобработке. Для начала нужно объединить таблицы, привести названия столбцов к общепринятому виду, проверить данные на дубликаты и пропуски. Займемся этим на этапе предобработки."
   ]
  },
  {
   "cell_type": "markdown",
   "id": "5a37e934",
   "metadata": {},
   "source": [
    "### Предобработка данных\n",
    "\n",
    "Для начала проверим данные на дубликаты. Посчитаем кол-во явных дубликатов в таблице data."
   ]
  },
  {
   "cell_type": "code",
   "execution_count": 9,
   "id": "01db0a8d",
   "metadata": {},
   "outputs": [
    {
     "data": {
      "text/plain": [
       "1033"
      ]
     },
     "execution_count": 9,
     "metadata": {},
     "output_type": "execute_result"
    }
   ],
   "source": [
    "data.duplicated().sum()"
   ]
  },
  {
   "cell_type": "markdown",
   "id": "a67d6ab5",
   "metadata": {},
   "source": [
    "Найдено 1033 явных дубликата, удалять их не нужно, т.к. по условию может быть несколько одинаковых продаж."
   ]
  },
  {
   "cell_type": "markdown",
   "id": "f7cec9dc",
   "metadata": {},
   "source": [
    "Посчитаем кол-во явных дубликатов в таблице product_data."
   ]
  },
  {
   "cell_type": "code",
   "execution_count": 10,
   "id": "8116e00d",
   "metadata": {},
   "outputs": [
    {
     "data": {
      "text/plain": [
       "0"
      ]
     },
     "execution_count": 10,
     "metadata": {},
     "output_type": "execute_result"
    }
   ],
   "source": [
    "product_data.duplicated().sum()"
   ]
  },
  {
   "cell_type": "code",
   "execution_count": 11,
   "id": "94af7187",
   "metadata": {},
   "outputs": [
    {
     "data": {
      "text/html": [
       "<div>\n",
       "<style scoped>\n",
       "    .dataframe tbody tr th:only-of-type {\n",
       "        vertical-align: middle;\n",
       "    }\n",
       "\n",
       "    .dataframe tbody tr th {\n",
       "        vertical-align: top;\n",
       "    }\n",
       "\n",
       "    .dataframe thead th {\n",
       "        text-align: right;\n",
       "    }\n",
       "</style>\n",
       "<table border=\"1\" class=\"dataframe\">\n",
       "  <thead>\n",
       "    <tr style=\"text-align: right;\">\n",
       "      <th></th>\n",
       "      <th>productID</th>\n",
       "      <th>price_per_one</th>\n",
       "    </tr>\n",
       "  </thead>\n",
       "  <tbody>\n",
       "    <tr>\n",
       "      <th>31</th>\n",
       "      <td>10002</td>\n",
       "      <td>0.85</td>\n",
       "    </tr>\n",
       "    <tr>\n",
       "      <th>8122</th>\n",
       "      <td>10002</td>\n",
       "      <td>1.63</td>\n",
       "    </tr>\n",
       "    <tr>\n",
       "      <th>2459</th>\n",
       "      <td>10002</td>\n",
       "      <td>1.66</td>\n",
       "    </tr>\n",
       "    <tr>\n",
       "      <th>9886</th>\n",
       "      <td>10080</td>\n",
       "      <td>0.85</td>\n",
       "    </tr>\n",
       "    <tr>\n",
       "      <th>2432</th>\n",
       "      <td>10120</td>\n",
       "      <td>0.21</td>\n",
       "    </tr>\n",
       "    <tr>\n",
       "      <th>2431</th>\n",
       "      <td>10123C</td>\n",
       "      <td>0.65</td>\n",
       "    </tr>\n",
       "    <tr>\n",
       "      <th>3623</th>\n",
       "      <td>10124A</td>\n",
       "      <td>0.42</td>\n",
       "    </tr>\n",
       "    <tr>\n",
       "      <th>2098</th>\n",
       "      <td>10124G</td>\n",
       "      <td>0.42</td>\n",
       "    </tr>\n",
       "    <tr>\n",
       "      <th>4901</th>\n",
       "      <td>10125</td>\n",
       "      <td>0.42</td>\n",
       "    </tr>\n",
       "    <tr>\n",
       "      <th>3542</th>\n",
       "      <td>10125</td>\n",
       "      <td>1.66</td>\n",
       "    </tr>\n",
       "    <tr>\n",
       "      <th>6052</th>\n",
       "      <td>10125</td>\n",
       "      <td>0.81</td>\n",
       "    </tr>\n",
       "    <tr>\n",
       "      <th>545</th>\n",
       "      <td>10125</td>\n",
       "      <td>0.85</td>\n",
       "    </tr>\n",
       "    <tr>\n",
       "      <th>6944</th>\n",
       "      <td>10125</td>\n",
       "      <td>0.79</td>\n",
       "    </tr>\n",
       "    <tr>\n",
       "      <th>5333</th>\n",
       "      <td>10133</td>\n",
       "      <td>0.42</td>\n",
       "    </tr>\n",
       "    <tr>\n",
       "      <th>7059</th>\n",
       "      <td>10133</td>\n",
       "      <td>0.79</td>\n",
       "    </tr>\n",
       "    <tr>\n",
       "      <th>9894</th>\n",
       "      <td>10133</td>\n",
       "      <td>1.63</td>\n",
       "    </tr>\n",
       "    <tr>\n",
       "      <th>2656</th>\n",
       "      <td>10133</td>\n",
       "      <td>1.66</td>\n",
       "    </tr>\n",
       "    <tr>\n",
       "      <th>6053</th>\n",
       "      <td>10133</td>\n",
       "      <td>0.81</td>\n",
       "    </tr>\n",
       "    <tr>\n",
       "      <th>503</th>\n",
       "      <td>10133</td>\n",
       "      <td>0.85</td>\n",
       "    </tr>\n",
       "    <tr>\n",
       "      <th>1946</th>\n",
       "      <td>10135</td>\n",
       "      <td>1.25</td>\n",
       "    </tr>\n",
       "  </tbody>\n",
       "</table>\n",
       "</div>"
      ],
      "text/plain": [
       "     productID  price_per_one\n",
       "31       10002           0.85\n",
       "8122     10002           1.63\n",
       "2459     10002           1.66\n",
       "9886     10080           0.85\n",
       "2432     10120           0.21\n",
       "2431    10123C           0.65\n",
       "3623    10124A           0.42\n",
       "2098    10124G           0.42\n",
       "4901     10125           0.42\n",
       "3542     10125           1.66\n",
       "6052     10125           0.81\n",
       "545      10125           0.85\n",
       "6944     10125           0.79\n",
       "5333     10133           0.42\n",
       "7059     10133           0.79\n",
       "9894     10133           1.63\n",
       "2656     10133           1.66\n",
       "6053     10133           0.81\n",
       "503      10133           0.85\n",
       "1946     10135           1.25"
      ]
     },
     "execution_count": 11,
     "metadata": {},
     "output_type": "execute_result"
    }
   ],
   "source": [
    "product_data.sort_values('productID').head(20)"
   ]
  },
  {
   "cell_type": "markdown",
   "id": "0f421436",
   "metadata": {},
   "source": [
    "В данных есть записи с одним и тем же id товара, но разной ценой. Оставим только одну строку для каждого товара, со средней ценой."
   ]
  },
  {
   "cell_type": "code",
   "execution_count": 12,
   "id": "b0a578ab",
   "metadata": {},
   "outputs": [
    {
     "data": {
      "text/html": [
       "<div>\n",
       "<style scoped>\n",
       "    .dataframe tbody tr th:only-of-type {\n",
       "        vertical-align: middle;\n",
       "    }\n",
       "\n",
       "    .dataframe tbody tr th {\n",
       "        vertical-align: top;\n",
       "    }\n",
       "\n",
       "    .dataframe thead th {\n",
       "        text-align: right;\n",
       "    }\n",
       "</style>\n",
       "<table border=\"1\" class=\"dataframe\">\n",
       "  <thead>\n",
       "    <tr style=\"text-align: right;\">\n",
       "      <th></th>\n",
       "      <th>productID</th>\n",
       "      <th>price_per_one</th>\n",
       "    </tr>\n",
       "  </thead>\n",
       "  <tbody>\n",
       "    <tr>\n",
       "      <th>0</th>\n",
       "      <td>10002</td>\n",
       "      <td>1.63</td>\n",
       "    </tr>\n",
       "    <tr>\n",
       "      <th>1</th>\n",
       "      <td>10080</td>\n",
       "      <td>0.85</td>\n",
       "    </tr>\n",
       "    <tr>\n",
       "      <th>2</th>\n",
       "      <td>10120</td>\n",
       "      <td>0.21</td>\n",
       "    </tr>\n",
       "    <tr>\n",
       "      <th>3</th>\n",
       "      <td>10123C</td>\n",
       "      <td>0.65</td>\n",
       "    </tr>\n",
       "    <tr>\n",
       "      <th>4</th>\n",
       "      <td>10124A</td>\n",
       "      <td>0.42</td>\n",
       "    </tr>\n",
       "  </tbody>\n",
       "</table>\n",
       "</div>"
      ],
      "text/plain": [
       "  productID  price_per_one\n",
       "0     10002           1.63\n",
       "1     10080           0.85\n",
       "2     10120           0.21\n",
       "3    10123C           0.65\n",
       "4    10124A           0.42"
      ]
     },
     "execution_count": 12,
     "metadata": {},
     "output_type": "execute_result"
    }
   ],
   "source": [
    "product_data = product_data.groupby('productID')['price_per_one'].median().reset_index()\n",
    "product_data.head()"
   ]
  },
  {
   "cell_type": "markdown",
   "id": "6b238f15",
   "metadata": {},
   "source": [
    "Объединим таблицы в одну."
   ]
  },
  {
   "cell_type": "code",
   "execution_count": 13,
   "id": "cf7501a4",
   "metadata": {},
   "outputs": [
    {
     "data": {
      "text/html": [
       "<div>\n",
       "<style scoped>\n",
       "    .dataframe tbody tr th:only-of-type {\n",
       "        vertical-align: middle;\n",
       "    }\n",
       "\n",
       "    .dataframe tbody tr th {\n",
       "        vertical-align: top;\n",
       "    }\n",
       "\n",
       "    .dataframe thead th {\n",
       "        text-align: right;\n",
       "    }\n",
       "</style>\n",
       "<table border=\"1\" class=\"dataframe\">\n",
       "  <thead>\n",
       "    <tr style=\"text-align: right;\">\n",
       "      <th></th>\n",
       "      <th>purchaseid</th>\n",
       "      <th>item_ID</th>\n",
       "      <th>Quantity</th>\n",
       "      <th>purchasedate</th>\n",
       "      <th>CustomerID</th>\n",
       "      <th>ShopID</th>\n",
       "      <th>loyalty_program</th>\n",
       "      <th>price_per_one</th>\n",
       "    </tr>\n",
       "  </thead>\n",
       "  <tbody>\n",
       "    <tr>\n",
       "      <th>0</th>\n",
       "      <td>538280</td>\n",
       "      <td>21873</td>\n",
       "      <td>11</td>\n",
       "      <td>2016-12-10 12:50:00</td>\n",
       "      <td>18427.0</td>\n",
       "      <td>Shop 0</td>\n",
       "      <td>0.0</td>\n",
       "      <td>1.63</td>\n",
       "    </tr>\n",
       "    <tr>\n",
       "      <th>1</th>\n",
       "      <td>538862</td>\n",
       "      <td>22195</td>\n",
       "      <td>0</td>\n",
       "      <td>2016-12-14 14:11:00</td>\n",
       "      <td>22389.0</td>\n",
       "      <td>Shop 0</td>\n",
       "      <td>1.0</td>\n",
       "      <td>3.29</td>\n",
       "    </tr>\n",
       "    <tr>\n",
       "      <th>2</th>\n",
       "      <td>538855</td>\n",
       "      <td>21239</td>\n",
       "      <td>7</td>\n",
       "      <td>2016-12-14 13:50:00</td>\n",
       "      <td>22182.0</td>\n",
       "      <td>Shop 0</td>\n",
       "      <td>1.0</td>\n",
       "      <td>1.63</td>\n",
       "    </tr>\n",
       "    <tr>\n",
       "      <th>3</th>\n",
       "      <td>543543</td>\n",
       "      <td>22271</td>\n",
       "      <td>0</td>\n",
       "      <td>2017-02-09 15:33:00</td>\n",
       "      <td>23522.0</td>\n",
       "      <td>Shop 0</td>\n",
       "      <td>1.0</td>\n",
       "      <td>4.37</td>\n",
       "    </tr>\n",
       "    <tr>\n",
       "      <th>4</th>\n",
       "      <td>543812</td>\n",
       "      <td>79321</td>\n",
       "      <td>0</td>\n",
       "      <td>2017-02-13 14:40:00</td>\n",
       "      <td>23151.0</td>\n",
       "      <td>Shop 0</td>\n",
       "      <td>1.0</td>\n",
       "      <td>5.75</td>\n",
       "    </tr>\n",
       "  </tbody>\n",
       "</table>\n",
       "</div>"
      ],
      "text/plain": [
       "  purchaseid item_ID  Quantity         purchasedate  CustomerID  ShopID  \\\n",
       "0     538280   21873        11  2016-12-10 12:50:00     18427.0  Shop 0   \n",
       "1     538862   22195         0  2016-12-14 14:11:00     22389.0  Shop 0   \n",
       "2     538855   21239         7  2016-12-14 13:50:00     22182.0  Shop 0   \n",
       "3     543543   22271         0  2017-02-09 15:33:00     23522.0  Shop 0   \n",
       "4     543812   79321         0  2017-02-13 14:40:00     23151.0  Shop 0   \n",
       "\n",
       "   loyalty_program  price_per_one  \n",
       "0              0.0           1.63  \n",
       "1              1.0           3.29  \n",
       "2              1.0           1.63  \n",
       "3              1.0           4.37  \n",
       "4              1.0           5.75  "
      ]
     },
     "execution_count": 13,
     "metadata": {},
     "output_type": "execute_result"
    }
   ],
   "source": [
    "data = data.merge(product_data, how='left', left_on='item_ID', right_on='productID')\n",
    "data = data[['purchaseid', 'item_ID', 'Quantity', 'purchasedate', 'CustomerID', 'ShopID', 'loyalty_program', 'price_per_one']]\n",
    "data.head()"
   ]
  },
  {
   "cell_type": "markdown",
   "id": "7d7edb04",
   "metadata": {},
   "source": [
    "Приведем названия столбцов к общепринятому виду:"
   ]
  },
  {
   "cell_type": "code",
   "execution_count": 14,
   "id": "7c7d3542",
   "metadata": {},
   "outputs": [
    {
     "name": "stdout",
     "output_type": "stream",
     "text": [
      "<class 'pandas.core.frame.DataFrame'>\n",
      "Int64Index: 105335 entries, 0 to 105334\n",
      "Data columns (total 8 columns):\n",
      " #   Column           Non-Null Count   Dtype  \n",
      "---  ------           --------------   -----  \n",
      " 0   purchase_id      105335 non-null  object \n",
      " 1   item_id          105335 non-null  object \n",
      " 2   quantity         105335 non-null  int64  \n",
      " 3   purchase_date    105335 non-null  object \n",
      " 4   customer_id      69125 non-null   float64\n",
      " 5   shop_id          105335 non-null  object \n",
      " 6   loyalty_program  105335 non-null  float64\n",
      " 7   price_per_one    105335 non-null  float64\n",
      "dtypes: float64(3), int64(1), object(4)\n",
      "memory usage: 7.2+ MB\n"
     ]
    }
   ],
   "source": [
    "data = data.rename(columns={\n",
    "    'purchaseid': 'purchase_id', \n",
    "    'item_ID': 'item_id', \n",
    "    'Quantity': 'quantity', \n",
    "    'purchasedate': 'purchase_date',\n",
    "    'CustomerID': 'customer_id',\n",
    "    'ShopID': 'shop_id',\n",
    "})\n",
    "data.info()"
   ]
  },
  {
   "cell_type": "markdown",
   "id": "f004b5cf",
   "metadata": {},
   "source": [
    "Проверим данные на пропуски:"
   ]
  },
  {
   "cell_type": "code",
   "execution_count": 15,
   "id": "8d7b174a",
   "metadata": {},
   "outputs": [
    {
     "data": {
      "text/plain": [
       "purchase_id            0\n",
       "item_id                0\n",
       "quantity               0\n",
       "purchase_date          0\n",
       "customer_id        36210\n",
       "shop_id                0\n",
       "loyalty_program        0\n",
       "price_per_one          0\n",
       "dtype: int64"
      ]
     },
     "execution_count": 15,
     "metadata": {},
     "output_type": "execute_result"
    }
   ],
   "source": [
    "data.isna().sum()"
   ]
  },
  {
   "cell_type": "markdown",
   "id": "493ac666",
   "metadata": {},
   "source": [
    "У нас есть 36148 строк, где не заполнено поле `customer_id`. Посмотрим являются ли эти покупатели участниками программы лояльности."
   ]
  },
  {
   "cell_type": "code",
   "execution_count": 16,
   "id": "7e32376e",
   "metadata": {},
   "outputs": [
    {
     "name": "stdout",
     "output_type": "stream",
     "text": [
      "<class 'pandas.core.frame.DataFrame'>\n",
      "Int64Index: 36210 entries, 6 to 105330\n",
      "Data columns (total 8 columns):\n",
      " #   Column           Non-Null Count  Dtype  \n",
      "---  ------           --------------  -----  \n",
      " 0   purchase_id      36210 non-null  object \n",
      " 1   item_id          36210 non-null  object \n",
      " 2   quantity         36210 non-null  int64  \n",
      " 3   purchase_date    36210 non-null  object \n",
      " 4   customer_id      0 non-null      float64\n",
      " 5   shop_id          36210 non-null  object \n",
      " 6   loyalty_program  36210 non-null  float64\n",
      " 7   price_per_one    36210 non-null  float64\n",
      "dtypes: float64(3), int64(1), object(4)\n",
      "memory usage: 2.5+ MB\n"
     ]
    }
   ],
   "source": [
    "data_isna = data[data['customer_id'].isna()]\n",
    "data_isna_loy = data_isna[data_isna['loyalty_program']==0.0]\n",
    "data_isna_loy.info()"
   ]
  },
  {
   "cell_type": "markdown",
   "id": "ed1fac4e",
   "metadata": {},
   "source": [
    "Посмотрим в каких магазинах есть пропущенные значения."
   ]
  },
  {
   "cell_type": "code",
   "execution_count": 17,
   "id": "efac7996",
   "metadata": {},
   "outputs": [
    {
     "data": {
      "text/plain": [
       "array(['Shop 0', 'Shop 25', 'Shop 6', 'Shop 21', 'Shop 23'], dtype=object)"
      ]
     },
     "execution_count": 17,
     "metadata": {},
     "output_type": "execute_result"
    }
   ],
   "source": [
    "data_isna['shop_id'].unique()"
   ]
  },
  {
   "cell_type": "markdown",
   "id": "1b3d4a61",
   "metadata": {},
   "source": [
    "Все покупатели с пропущенными id не являются участниками программы лояльности и пропуски наблюдаются только в 5 магазинах. Возможно, это не постоянные покупатели, а покупатели \"с улицы\" и о них нет данных."
   ]
  },
  {
   "cell_type": "code",
   "execution_count": 18,
   "id": "44de24b6",
   "metadata": {},
   "outputs": [
    {
     "data": {
      "text/plain": [
       "purchase_id        0\n",
       "item_id            0\n",
       "quantity           0\n",
       "purchase_date      0\n",
       "customer_id        0\n",
       "shop_id            0\n",
       "loyalty_program    0\n",
       "price_per_one      0\n",
       "dtype: int64"
      ]
     },
     "execution_count": 18,
     "metadata": {},
     "output_type": "execute_result"
    }
   ],
   "source": [
    "data = data.fillna(-1)\n",
    "data.isna().sum()"
   ]
  },
  {
   "cell_type": "markdown",
   "id": "0f8fc473",
   "metadata": {},
   "source": [
    "Приведем типы данных к корректным:\n",
    "1. Поля `customer_id`, `loyalty_program` приведем к типу `int`.\n",
    "2. Поле `purchase_date` приведем к типу `datetime`.\n",
    "\n",
    "В полях `purchase_id`, `item_id` есть id, содержащие буквы. Возможно, это ошибки, но точно утверждать нельзя, поэтому оставим их без изменения."
   ]
  },
  {
   "cell_type": "code",
   "execution_count": 19,
   "id": "6a97fe33",
   "metadata": {},
   "outputs": [
    {
     "name": "stdout",
     "output_type": "stream",
     "text": [
      "<class 'pandas.core.frame.DataFrame'>\n",
      "Int64Index: 105335 entries, 0 to 105334\n",
      "Data columns (total 8 columns):\n",
      " #   Column           Non-Null Count   Dtype  \n",
      "---  ------           --------------   -----  \n",
      " 0   purchase_id      105335 non-null  object \n",
      " 1   item_id          105335 non-null  object \n",
      " 2   quantity         105335 non-null  int64  \n",
      " 3   purchase_date    105335 non-null  object \n",
      " 4   customer_id      105335 non-null  int32  \n",
      " 5   shop_id          105335 non-null  object \n",
      " 6   loyalty_program  105335 non-null  int32  \n",
      " 7   price_per_one    105335 non-null  float64\n",
      "dtypes: float64(1), int32(2), int64(1), object(4)\n",
      "memory usage: 6.4+ MB\n"
     ]
    }
   ],
   "source": [
    "data['customer_id'] = data['customer_id'].astype('int')\n",
    "data['loyalty_program'] = data['loyalty_program'].astype('int')\n",
    "    \n",
    "data.info()"
   ]
  },
  {
   "cell_type": "code",
   "execution_count": 20,
   "id": "962206be",
   "metadata": {},
   "outputs": [
    {
     "data": {
      "text/html": [
       "<div>\n",
       "<style scoped>\n",
       "    .dataframe tbody tr th:only-of-type {\n",
       "        vertical-align: middle;\n",
       "    }\n",
       "\n",
       "    .dataframe tbody tr th {\n",
       "        vertical-align: top;\n",
       "    }\n",
       "\n",
       "    .dataframe thead th {\n",
       "        text-align: right;\n",
       "    }\n",
       "</style>\n",
       "<table border=\"1\" class=\"dataframe\">\n",
       "  <thead>\n",
       "    <tr style=\"text-align: right;\">\n",
       "      <th></th>\n",
       "      <th>purchase_id</th>\n",
       "      <th>item_id</th>\n",
       "      <th>quantity</th>\n",
       "      <th>purchase_date</th>\n",
       "      <th>customer_id</th>\n",
       "      <th>shop_id</th>\n",
       "      <th>loyalty_program</th>\n",
       "      <th>price_per_one</th>\n",
       "    </tr>\n",
       "  </thead>\n",
       "  <tbody>\n",
       "    <tr>\n",
       "      <th>0</th>\n",
       "      <td>538280</td>\n",
       "      <td>21873</td>\n",
       "      <td>11</td>\n",
       "      <td>2016-12-10 12:50:00</td>\n",
       "      <td>18427</td>\n",
       "      <td>Shop 0</td>\n",
       "      <td>0</td>\n",
       "      <td>1.63</td>\n",
       "    </tr>\n",
       "    <tr>\n",
       "      <th>1</th>\n",
       "      <td>538862</td>\n",
       "      <td>22195</td>\n",
       "      <td>0</td>\n",
       "      <td>2016-12-14 14:11:00</td>\n",
       "      <td>22389</td>\n",
       "      <td>Shop 0</td>\n",
       "      <td>1</td>\n",
       "      <td>3.29</td>\n",
       "    </tr>\n",
       "    <tr>\n",
       "      <th>2</th>\n",
       "      <td>538855</td>\n",
       "      <td>21239</td>\n",
       "      <td>7</td>\n",
       "      <td>2016-12-14 13:50:00</td>\n",
       "      <td>22182</td>\n",
       "      <td>Shop 0</td>\n",
       "      <td>1</td>\n",
       "      <td>1.63</td>\n",
       "    </tr>\n",
       "    <tr>\n",
       "      <th>3</th>\n",
       "      <td>543543</td>\n",
       "      <td>22271</td>\n",
       "      <td>0</td>\n",
       "      <td>2017-02-09 15:33:00</td>\n",
       "      <td>23522</td>\n",
       "      <td>Shop 0</td>\n",
       "      <td>1</td>\n",
       "      <td>4.37</td>\n",
       "    </tr>\n",
       "    <tr>\n",
       "      <th>4</th>\n",
       "      <td>543812</td>\n",
       "      <td>79321</td>\n",
       "      <td>0</td>\n",
       "      <td>2017-02-13 14:40:00</td>\n",
       "      <td>23151</td>\n",
       "      <td>Shop 0</td>\n",
       "      <td>1</td>\n",
       "      <td>5.75</td>\n",
       "    </tr>\n",
       "  </tbody>\n",
       "</table>\n",
       "</div>"
      ],
      "text/plain": [
       "  purchase_id item_id  quantity       purchase_date  customer_id shop_id  \\\n",
       "0      538280   21873        11 2016-12-10 12:50:00        18427  Shop 0   \n",
       "1      538862   22195         0 2016-12-14 14:11:00        22389  Shop 0   \n",
       "2      538855   21239         7 2016-12-14 13:50:00        22182  Shop 0   \n",
       "3      543543   22271         0 2017-02-09 15:33:00        23522  Shop 0   \n",
       "4      543812   79321         0 2017-02-13 14:40:00        23151  Shop 0   \n",
       "\n",
       "   loyalty_program  price_per_one  \n",
       "0                0           1.63  \n",
       "1                1           3.29  \n",
       "2                1           1.63  \n",
       "3                1           4.37  \n",
       "4                1           5.75  "
      ]
     },
     "execution_count": 20,
     "metadata": {},
     "output_type": "execute_result"
    }
   ],
   "source": [
    "data['purchase_date'] = pd.to_datetime(data['purchase_date'], format='%Y-%m-%dT%H:%M:%S')\n",
    "data.head()"
   ]
  },
  {
   "cell_type": "markdown",
   "id": "73f9a2c3",
   "metadata": {},
   "source": [
    "Проверим данные на аномалии:"
   ]
  },
  {
   "cell_type": "code",
   "execution_count": 21,
   "id": "29d5d839",
   "metadata": {},
   "outputs": [
    {
     "data": {
      "text/plain": [
       "array(['Shop 0', 'Shop 1', 'Shop 4', 'Shop 6', 'Shop 2', 'Shop 11',\n",
       "       'Shop 3', 'Shop 5', 'Shop 7', 'Shop 12', 'Shop 8', 'Shop 27',\n",
       "       'Shop 10', 'Shop 20', 'Shop 19', 'Shop 25', 'Shop 14', 'Shop 21',\n",
       "       'Shop 18', 'Shop 9', 'Shop 16', 'Shop 28', 'Shop 29', 'Shop 17',\n",
       "       'Shop 22', 'Shop 13', 'Shop 26', 'Shop 24', 'Shop 15', 'Shop 23',\n",
       "       'Shop 30'], dtype=object)"
      ]
     },
     "execution_count": 21,
     "metadata": {},
     "output_type": "execute_result"
    }
   ],
   "source": [
    "data['shop_id'].unique()"
   ]
  },
  {
   "cell_type": "code",
   "execution_count": 22,
   "id": "7ef617ee",
   "metadata": {},
   "outputs": [
    {
     "data": {
      "text/plain": [
       "array([0, 1])"
      ]
     },
     "execution_count": 22,
     "metadata": {},
     "output_type": "execute_result"
    }
   ],
   "source": [
    "data['loyalty_program'].unique()"
   ]
  },
  {
   "cell_type": "code",
   "execution_count": 23,
   "id": "ea52cd7f",
   "metadata": {},
   "outputs": [
    {
     "data": {
      "text/plain": [
       "count    105335.000000\n",
       "mean          7.821218\n",
       "std         327.946695\n",
       "min      -74216.000000\n",
       "25%           0.000000\n",
       "50%           2.000000\n",
       "75%           7.000000\n",
       "max       74214.000000\n",
       "Name: quantity, dtype: float64"
      ]
     },
     "execution_count": 23,
     "metadata": {},
     "output_type": "execute_result"
    }
   ],
   "source": [
    "data['quantity'].describe()"
   ]
  },
  {
   "cell_type": "markdown",
   "id": "42c2be41",
   "metadata": {},
   "source": [
    "В поле `quantity` присутствуют отрицательные значения. Скорее всего это ошибки в данных. Приведем их к положительным значениям.\n",
    "Также присуствуют нулевые значения, возможно, это ошибки, вызванные заменой кассовых апаратов, но точно утверждать нельзя. Пока оставим такие значения без изменения."
   ]
  },
  {
   "cell_type": "code",
   "execution_count": 24,
   "id": "96a47fae",
   "metadata": {},
   "outputs": [
    {
     "data": {
      "text/plain": [
       "count    105335.000000\n",
       "mean         10.093245\n",
       "std         327.884632\n",
       "min           0.000000\n",
       "25%           0.000000\n",
       "50%           2.000000\n",
       "75%           8.000000\n",
       "max       74216.000000\n",
       "Name: quantity, dtype: float64"
      ]
     },
     "execution_count": 24,
     "metadata": {},
     "output_type": "execute_result"
    }
   ],
   "source": [
    "data['quantity'] = abs(data['quantity'])\n",
    "data['quantity'].describe()"
   ]
  },
  {
   "cell_type": "markdown",
   "id": "be1d1af4",
   "metadata": {},
   "source": [
    "Максимальное значение 74216 товаров за одну покупку. Посмотрим распределение количества товаров на графике."
   ]
  },
  {
   "cell_type": "code",
   "execution_count": 25,
   "id": "8d75aaba",
   "metadata": {},
   "outputs": [
    {
     "data": {
      "image/png": "[encoded data removed]",
      "text/plain": [
       "<Figure size 640x480 with 1 Axes>"
      ]
     },
     "metadata": {},
     "output_type": "display_data"
    }
   ],
   "source": [
    "sns.boxplot(data=data, y='quantity', palette='pastel')\n",
    "\n",
    "plt.title('Диаграмма размаха для количества товаров')\n",
    "plt.ylabel('Количество товаров')\n",
    "plt.grid(True)"
   ]
  },
  {
   "cell_type": "markdown",
   "id": "48272106",
   "metadata": {},
   "source": [
    "Посмотрим сколько строк с количеством товаров больше 9000."
   ]
  },
  {
   "cell_type": "code",
   "execution_count": 26,
   "id": "2557e526",
   "metadata": {},
   "outputs": [
    {
     "data": {
      "text/plain": [
       "purchase_id        3\n",
       "item_id            3\n",
       "quantity           3\n",
       "purchase_date      3\n",
       "customer_id        3\n",
       "shop_id            3\n",
       "loyalty_program    3\n",
       "price_per_one      3\n",
       "dtype: int64"
      ]
     },
     "execution_count": 26,
     "metadata": {},
     "output_type": "execute_result"
    }
   ],
   "source": [
    "data[data['quantity'] > 9000].count()"
   ]
  },
  {
   "cell_type": "markdown",
   "id": "a12ec189",
   "metadata": {},
   "source": [
    "Нашлось 3 записи с количеством товаров больше 9000. Удалим их."
   ]
  },
  {
   "cell_type": "code",
   "execution_count": 27,
   "id": "ebaa4b9c",
   "metadata": {},
   "outputs": [
    {
     "data": {
      "text/plain": [
       "count    105332.000000\n",
       "mean          8.595498\n",
       "std          46.102064\n",
       "min           0.000000\n",
       "25%           0.000000\n",
       "50%           2.000000\n",
       "75%           8.000000\n",
       "max        5567.000000\n",
       "Name: quantity, dtype: float64"
      ]
     },
     "execution_count": 27,
     "metadata": {},
     "output_type": "execute_result"
    }
   ],
   "source": [
    "data = data[data['quantity'] < 9000]\n",
    "data['quantity'].describe()"
   ]
  },
  {
   "cell_type": "markdown",
   "id": "c4e77b34",
   "metadata": {},
   "source": [
    "Максимальное значение все равно довольно большое в сравнении со средним. Построим диаграмму размаха еще раз."
   ]
  },
  {
   "cell_type": "code",
   "execution_count": 28,
   "id": "9506b45c",
   "metadata": {},
   "outputs": [
    {
     "data": {
      "image/png": "[encoded data removed]",
      "text/plain": [
       "<Figure size 640x480 with 1 Axes>"
      ]
     },
     "metadata": {},
     "output_type": "display_data"
    }
   ],
   "source": [
    "sns.boxplot(data=data, y='quantity', palette='pastel')\n",
    "\n",
    "plt.title('Диаграмма размаха для количества товаров')\n",
    "plt.ylabel('Количество товаров')\n",
    "plt.grid(True)"
   ]
  },
  {
   "cell_type": "markdown",
   "id": "12a34f68",
   "metadata": {},
   "source": [
    "Посмотрим сколько строк с количеством товаров больше 1500."
   ]
  },
  {
   "cell_type": "code",
   "execution_count": 29,
   "id": "f99ac97d",
   "metadata": {},
   "outputs": [
    {
     "data": {
      "text/plain": [
       "purchase_id        14\n",
       "item_id            14\n",
       "quantity           14\n",
       "purchase_date      14\n",
       "customer_id        14\n",
       "shop_id            14\n",
       "loyalty_program    14\n",
       "price_per_one      14\n",
       "dtype: int64"
      ]
     },
     "execution_count": 29,
     "metadata": {},
     "output_type": "execute_result"
    }
   ],
   "source": [
    "data[data['quantity'] > 1500].count()"
   ]
  },
  {
   "cell_type": "markdown",
   "id": "f37f5744",
   "metadata": {},
   "source": [
    "Нашлось 14 записей с количеством товаров больше 1500. Удалим их."
   ]
  },
  {
   "cell_type": "code",
   "execution_count": 30,
   "id": "0905c1ac",
   "metadata": {},
   "outputs": [],
   "source": [
    "data = data[data['quantity'] < 1500]"
   ]
  },
  {
   "cell_type": "markdown",
   "id": "a760b108",
   "metadata": {},
   "source": [
    "Посмотрим на распределение данных по датам."
   ]
  },
  {
   "cell_type": "code",
   "execution_count": 31,
   "id": "4bf22b72",
   "metadata": {},
   "outputs": [
    {
     "data": {
      "image/png": "[encoded data removed]",
      "text/plain": [
       "<Figure size 2000x700 with 1 Axes>"
      ]
     },
     "metadata": {},
     "output_type": "display_data"
    }
   ],
   "source": [
    "date_purchases = data.groupby(data['purchase_date'])['purchase_id'].nunique()\n",
    "\n",
    "plt.figure(figsize=(20, 7))\n",
    "sns.histplot(data=date_purchases , x='purchase_date', bins=120)\n",
    "plt.title('Распределение кол-ва продаж по дням')\n",
    "plt.ylabel('Количество продаж')\n",
    "plt.xlabel('Дата')\n",
    "plt.xticks(rotation=45);"
   ]
  },
  {
   "cell_type": "markdown",
   "id": "a434c45a",
   "metadata": {},
   "source": [
    "Судя по графику, больше всего продаж было перед новым годом. В новогодние праздники продаж не было совсем, скорее всего магазин не работал. Дальше данные распределены примерно равномерно.\n",
    "\n",
    "Добавим поле \"Месяц покупки\"."
   ]
  },
  {
   "cell_type": "code",
   "execution_count": 32,
   "id": "5d2f58ba",
   "metadata": {},
   "outputs": [
    {
     "data": {
      "text/html": [
       "<div>\n",
       "<style scoped>\n",
       "    .dataframe tbody tr th:only-of-type {\n",
       "        vertical-align: middle;\n",
       "    }\n",
       "\n",
       "    .dataframe tbody tr th {\n",
       "        vertical-align: top;\n",
       "    }\n",
       "\n",
       "    .dataframe thead th {\n",
       "        text-align: right;\n",
       "    }\n",
       "</style>\n",
       "<table border=\"1\" class=\"dataframe\">\n",
       "  <thead>\n",
       "    <tr style=\"text-align: right;\">\n",
       "      <th></th>\n",
       "      <th>purchase_id</th>\n",
       "      <th>item_id</th>\n",
       "      <th>quantity</th>\n",
       "      <th>purchase_date</th>\n",
       "      <th>customer_id</th>\n",
       "      <th>shop_id</th>\n",
       "      <th>loyalty_program</th>\n",
       "      <th>price_per_one</th>\n",
       "      <th>month</th>\n",
       "    </tr>\n",
       "  </thead>\n",
       "  <tbody>\n",
       "    <tr>\n",
       "      <th>0</th>\n",
       "      <td>538280</td>\n",
       "      <td>21873</td>\n",
       "      <td>11</td>\n",
       "      <td>2016-12-10 12:50:00</td>\n",
       "      <td>18427</td>\n",
       "      <td>Shop 0</td>\n",
       "      <td>0</td>\n",
       "      <td>1.63</td>\n",
       "      <td>2016-12</td>\n",
       "    </tr>\n",
       "    <tr>\n",
       "      <th>1</th>\n",
       "      <td>538862</td>\n",
       "      <td>22195</td>\n",
       "      <td>0</td>\n",
       "      <td>2016-12-14 14:11:00</td>\n",
       "      <td>22389</td>\n",
       "      <td>Shop 0</td>\n",
       "      <td>1</td>\n",
       "      <td>3.29</td>\n",
       "      <td>2016-12</td>\n",
       "    </tr>\n",
       "    <tr>\n",
       "      <th>2</th>\n",
       "      <td>538855</td>\n",
       "      <td>21239</td>\n",
       "      <td>7</td>\n",
       "      <td>2016-12-14 13:50:00</td>\n",
       "      <td>22182</td>\n",
       "      <td>Shop 0</td>\n",
       "      <td>1</td>\n",
       "      <td>1.63</td>\n",
       "      <td>2016-12</td>\n",
       "    </tr>\n",
       "    <tr>\n",
       "      <th>3</th>\n",
       "      <td>543543</td>\n",
       "      <td>22271</td>\n",
       "      <td>0</td>\n",
       "      <td>2017-02-09 15:33:00</td>\n",
       "      <td>23522</td>\n",
       "      <td>Shop 0</td>\n",
       "      <td>1</td>\n",
       "      <td>4.37</td>\n",
       "      <td>2017-02</td>\n",
       "    </tr>\n",
       "    <tr>\n",
       "      <th>4</th>\n",
       "      <td>543812</td>\n",
       "      <td>79321</td>\n",
       "      <td>0</td>\n",
       "      <td>2017-02-13 14:40:00</td>\n",
       "      <td>23151</td>\n",
       "      <td>Shop 0</td>\n",
       "      <td>1</td>\n",
       "      <td>5.75</td>\n",
       "      <td>2017-02</td>\n",
       "    </tr>\n",
       "  </tbody>\n",
       "</table>\n",
       "</div>"
      ],
      "text/plain": [
       "  purchase_id item_id  quantity       purchase_date  customer_id shop_id  \\\n",
       "0      538280   21873        11 2016-12-10 12:50:00        18427  Shop 0   \n",
       "1      538862   22195         0 2016-12-14 14:11:00        22389  Shop 0   \n",
       "2      538855   21239         7 2016-12-14 13:50:00        22182  Shop 0   \n",
       "3      543543   22271         0 2017-02-09 15:33:00        23522  Shop 0   \n",
       "4      543812   79321         0 2017-02-13 14:40:00        23151  Shop 0   \n",
       "\n",
       "   loyalty_program  price_per_one    month  \n",
       "0                0           1.63  2016-12  \n",
       "1                1           3.29  2016-12  \n",
       "2                1           1.63  2016-12  \n",
       "3                1           4.37  2017-02  \n",
       "4                1           5.75  2017-02  "
      ]
     },
     "execution_count": 32,
     "metadata": {},
     "output_type": "execute_result"
    }
   ],
   "source": [
    "data['month'] = data['purchase_date'].dt.strftime('%Y-%m')\n",
    "data.head()"
   ]
  },
  {
   "cell_type": "markdown",
   "id": "6d974652",
   "metadata": {},
   "source": [
    "Добавить поле \"Сумма покупки\", которое будет хранить произведение полей \"Стоимость одной единицы товара\" и \"Кол-во товара\"."
   ]
  },
  {
   "cell_type": "code",
   "execution_count": 33,
   "id": "a2fc1718",
   "metadata": {},
   "outputs": [
    {
     "data": {
      "text/html": [
       "<div>\n",
       "<style scoped>\n",
       "    .dataframe tbody tr th:only-of-type {\n",
       "        vertical-align: middle;\n",
       "    }\n",
       "\n",
       "    .dataframe tbody tr th {\n",
       "        vertical-align: top;\n",
       "    }\n",
       "\n",
       "    .dataframe thead th {\n",
       "        text-align: right;\n",
       "    }\n",
       "</style>\n",
       "<table border=\"1\" class=\"dataframe\">\n",
       "  <thead>\n",
       "    <tr style=\"text-align: right;\">\n",
       "      <th></th>\n",
       "      <th>purchase_id</th>\n",
       "      <th>item_id</th>\n",
       "      <th>quantity</th>\n",
       "      <th>purchase_date</th>\n",
       "      <th>customer_id</th>\n",
       "      <th>shop_id</th>\n",
       "      <th>loyalty_program</th>\n",
       "      <th>price_per_one</th>\n",
       "      <th>month</th>\n",
       "      <th>sum</th>\n",
       "    </tr>\n",
       "  </thead>\n",
       "  <tbody>\n",
       "    <tr>\n",
       "      <th>0</th>\n",
       "      <td>538280</td>\n",
       "      <td>21873</td>\n",
       "      <td>11</td>\n",
       "      <td>2016-12-10 12:50:00</td>\n",
       "      <td>18427</td>\n",
       "      <td>Shop 0</td>\n",
       "      <td>0</td>\n",
       "      <td>1.63</td>\n",
       "      <td>2016-12</td>\n",
       "      <td>17.93</td>\n",
       "    </tr>\n",
       "    <tr>\n",
       "      <th>1</th>\n",
       "      <td>538862</td>\n",
       "      <td>22195</td>\n",
       "      <td>0</td>\n",
       "      <td>2016-12-14 14:11:00</td>\n",
       "      <td>22389</td>\n",
       "      <td>Shop 0</td>\n",
       "      <td>1</td>\n",
       "      <td>3.29</td>\n",
       "      <td>2016-12</td>\n",
       "      <td>0.00</td>\n",
       "    </tr>\n",
       "    <tr>\n",
       "      <th>2</th>\n",
       "      <td>538855</td>\n",
       "      <td>21239</td>\n",
       "      <td>7</td>\n",
       "      <td>2016-12-14 13:50:00</td>\n",
       "      <td>22182</td>\n",
       "      <td>Shop 0</td>\n",
       "      <td>1</td>\n",
       "      <td>1.63</td>\n",
       "      <td>2016-12</td>\n",
       "      <td>11.41</td>\n",
       "    </tr>\n",
       "    <tr>\n",
       "      <th>3</th>\n",
       "      <td>543543</td>\n",
       "      <td>22271</td>\n",
       "      <td>0</td>\n",
       "      <td>2017-02-09 15:33:00</td>\n",
       "      <td>23522</td>\n",
       "      <td>Shop 0</td>\n",
       "      <td>1</td>\n",
       "      <td>4.37</td>\n",
       "      <td>2017-02</td>\n",
       "      <td>0.00</td>\n",
       "    </tr>\n",
       "    <tr>\n",
       "      <th>4</th>\n",
       "      <td>543812</td>\n",
       "      <td>79321</td>\n",
       "      <td>0</td>\n",
       "      <td>2017-02-13 14:40:00</td>\n",
       "      <td>23151</td>\n",
       "      <td>Shop 0</td>\n",
       "      <td>1</td>\n",
       "      <td>5.75</td>\n",
       "      <td>2017-02</td>\n",
       "      <td>0.00</td>\n",
       "    </tr>\n",
       "  </tbody>\n",
       "</table>\n",
       "</div>"
      ],
      "text/plain": [
       "  purchase_id item_id  quantity       purchase_date  customer_id shop_id  \\\n",
       "0      538280   21873        11 2016-12-10 12:50:00        18427  Shop 0   \n",
       "1      538862   22195         0 2016-12-14 14:11:00        22389  Shop 0   \n",
       "2      538855   21239         7 2016-12-14 13:50:00        22182  Shop 0   \n",
       "3      543543   22271         0 2017-02-09 15:33:00        23522  Shop 0   \n",
       "4      543812   79321         0 2017-02-13 14:40:00        23151  Shop 0   \n",
       "\n",
       "   loyalty_program  price_per_one    month    sum  \n",
       "0                0           1.63  2016-12  17.93  \n",
       "1                1           3.29  2016-12   0.00  \n",
       "2                1           1.63  2016-12  11.41  \n",
       "3                1           4.37  2017-02   0.00  \n",
       "4                1           5.75  2017-02   0.00  "
      ]
     },
     "execution_count": 33,
     "metadata": {},
     "output_type": "execute_result"
    }
   ],
   "source": [
    "data['sum'] = data['quantity'] * data['price_per_one']\n",
    "data.head()"
   ]
  },
  {
   "cell_type": "markdown",
   "id": "3e79defd",
   "metadata": {},
   "source": [
    "На этом этап предобработки завершен. Таблицы были объединены в одну, выполнена проверка на дубликаты, обработаны пропущенные и аномальные значения. Добавлены новые поля \"Месяц покупки\" и \"Сумма покупки\"."
   ]
  },
  {
   "cell_type": "markdown",
   "id": "b94a1cc0",
   "metadata": {},
   "source": [
    "### Исследовательский анализ данных\n",
    "\n",
    "Для начала изучим распределение количества покупок во времени в разрезе категории лояльности."
   ]
  },
  {
   "cell_type": "code",
   "execution_count": 34,
   "id": "6919a54b",
   "metadata": {},
   "outputs": [
    {
     "data": {
      "image/png": "[encoded data removed]",
      "text/plain": [
       "<Figure size 640x480 with 1 Axes>"
      ]
     },
     "metadata": {},
     "output_type": "display_data"
    }
   ],
   "source": [
    "data_month = data.groupby(by=['month', 'loyalty_program'], as_index=False)['purchase_id'].nunique().sort_values(by='purchase_id', ascending=False)\n",
    "\n",
    "ax = sns.barplot(x='month', y='purchase_id', hue='loyalty_program', data=data_month, palette='pastel')\n",
    "\n",
    "plt.legend(title='Программа лояльности')\n",
    "ax.set_title('Распределение количества покупок по месяцам')\n",
    "ax.set_ylabel('Количество покупок')\n",
    "ax.set_xlabel('Месяц')\n",
    "ax.bar_label(ax.containers[0])\n",
    "ax.bar_label(ax.containers[1]);"
   ]
  },
  {
   "cell_type": "markdown",
   "id": "29130e10",
   "metadata": {},
   "source": [
    "По графику видно, что и для участников программы лояльности, и для обычных покупателей больше всего заказов было в декабре, а меньше всего в январе.\n",
    "\n",
    "Изучим распределение количества покупателей во времени в разрезе категории лояльности"
   ]
  },
  {
   "cell_type": "code",
   "execution_count": 35,
   "id": "d0d45a4f",
   "metadata": {},
   "outputs": [
    {
     "data": {
      "image/png": "[encoded data removed]",
      "text/plain": [
       "<Figure size 640x480 with 1 Axes>"
      ]
     },
     "metadata": {},
     "output_type": "display_data"
    }
   ],
   "source": [
    "data_customer = data.groupby(by=['month', 'loyalty_program'], as_index=False)['customer_id'].nunique()\n",
    "\n",
    "ax = sns.barplot(x='month', y='customer_id', hue='loyalty_program', data = data_customer, palette='pastel')\n",
    "\n",
    "plt.legend(title='Программа лояльности')\n",
    "ax.set_title('Распределение количества покупателей по месяцам')\n",
    "ax.set_ylabel('Количество покупателей')\n",
    "ax.set_xlabel('Месяц')\n",
    "ax.bar_label(ax.containers[0])\n",
    "ax.bar_label(ax.containers[1]);"
   ]
  },
  {
   "cell_type": "markdown",
   "id": "3a5c5366",
   "metadata": {},
   "source": [
    "И участников программы лояльности, и для обычных покупателей больше всего было в декабре, а в январе и феврале примерно одинаковое количество.\n",
    "\n",
    "Изучим в каких магазинах сети больше всего продаж."
   ]
  },
  {
   "cell_type": "code",
   "execution_count": 36,
   "id": "9765bb09",
   "metadata": {},
   "outputs": [
    {
     "data": {
      "image/png": "[encoded data removed]",
      "text/plain": [
       "<Figure size 640x480 with 1 Axes>"
      ]
     },
     "metadata": {},
     "output_type": "display_data"
    }
   ],
   "source": [
    "data_shop = data.groupby(by=['shop_id'], as_index=False)['purchase_id'].nunique()\n",
    "data_shop = data_shop.sort_values(by='purchase_id', ascending=False)\n",
    "data_shop\n",
    "ax = sns.barplot(x='purchase_id', y='shop_id', data = data_shop, palette='pastel')\n",
    "\n",
    "ax.set_title('Распределение количества покупок по магазинам')\n",
    "ax.set_xlabel('Количество покупок')\n",
    "ax.set_ylabel('Магазин');\n",
    "#ax.bar_label(ax.containers[0]);"
   ]
  },
  {
   "cell_type": "markdown",
   "id": "90f3344a",
   "metadata": {},
   "source": [
    "Судя по графику все основные продажи приходятся только на один магазин - Shop 0, это выглядит несколько странно.\n",
    "\n",
    "### Анализ эффективности программы лояльности\n",
    "\n",
    "Для начала посчитаем средний чек для обычных клиентов и клиентов, которые участвуют в программе лояльности.\n",
    "\n",
    "Для этого разделим покупателей на две группы - участников программы лояльности и обычных покупателей."
   ]
  },
  {
   "cell_type": "code",
   "execution_count": 37,
   "id": "fa2be91b",
   "metadata": {},
   "outputs": [
    {
     "data": {
      "text/html": [
       "<div>\n",
       "<style scoped>\n",
       "    .dataframe tbody tr th:only-of-type {\n",
       "        vertical-align: middle;\n",
       "    }\n",
       "\n",
       "    .dataframe tbody tr th {\n",
       "        vertical-align: top;\n",
       "    }\n",
       "\n",
       "    .dataframe thead th {\n",
       "        text-align: right;\n",
       "    }\n",
       "</style>\n",
       "<table border=\"1\" class=\"dataframe\">\n",
       "  <thead>\n",
       "    <tr style=\"text-align: right;\">\n",
       "      <th></th>\n",
       "      <th>purchase_id</th>\n",
       "      <th>item_id</th>\n",
       "      <th>quantity</th>\n",
       "      <th>purchase_date</th>\n",
       "      <th>customer_id</th>\n",
       "      <th>shop_id</th>\n",
       "      <th>loyalty_program</th>\n",
       "      <th>price_per_one</th>\n",
       "      <th>month</th>\n",
       "      <th>sum</th>\n",
       "    </tr>\n",
       "  </thead>\n",
       "  <tbody>\n",
       "    <tr>\n",
       "      <th>1</th>\n",
       "      <td>538862</td>\n",
       "      <td>22195</td>\n",
       "      <td>0</td>\n",
       "      <td>2016-12-14 14:11:00</td>\n",
       "      <td>22389</td>\n",
       "      <td>Shop 0</td>\n",
       "      <td>1</td>\n",
       "      <td>3.290</td>\n",
       "      <td>2016-12</td>\n",
       "      <td>0.00</td>\n",
       "    </tr>\n",
       "    <tr>\n",
       "      <th>2</th>\n",
       "      <td>538855</td>\n",
       "      <td>21239</td>\n",
       "      <td>7</td>\n",
       "      <td>2016-12-14 13:50:00</td>\n",
       "      <td>22182</td>\n",
       "      <td>Shop 0</td>\n",
       "      <td>1</td>\n",
       "      <td>1.630</td>\n",
       "      <td>2016-12</td>\n",
       "      <td>11.41</td>\n",
       "    </tr>\n",
       "    <tr>\n",
       "      <th>3</th>\n",
       "      <td>543543</td>\n",
       "      <td>22271</td>\n",
       "      <td>0</td>\n",
       "      <td>2017-02-09 15:33:00</td>\n",
       "      <td>23522</td>\n",
       "      <td>Shop 0</td>\n",
       "      <td>1</td>\n",
       "      <td>4.370</td>\n",
       "      <td>2017-02</td>\n",
       "      <td>0.00</td>\n",
       "    </tr>\n",
       "    <tr>\n",
       "      <th>4</th>\n",
       "      <td>543812</td>\n",
       "      <td>79321</td>\n",
       "      <td>0</td>\n",
       "      <td>2017-02-13 14:40:00</td>\n",
       "      <td>23151</td>\n",
       "      <td>Shop 0</td>\n",
       "      <td>1</td>\n",
       "      <td>5.750</td>\n",
       "      <td>2017-02</td>\n",
       "      <td>0.00</td>\n",
       "    </tr>\n",
       "    <tr>\n",
       "      <th>5</th>\n",
       "      <td>538379</td>\n",
       "      <td>22965</td>\n",
       "      <td>0</td>\n",
       "      <td>2016-12-12 11:26:00</td>\n",
       "      <td>22805</td>\n",
       "      <td>Shop 0</td>\n",
       "      <td>1</td>\n",
       "      <td>3.115</td>\n",
       "      <td>2016-12</td>\n",
       "      <td>0.00</td>\n",
       "    </tr>\n",
       "  </tbody>\n",
       "</table>\n",
       "</div>"
      ],
      "text/plain": [
       "  purchase_id item_id  quantity       purchase_date  customer_id shop_id  \\\n",
       "1      538862   22195         0 2016-12-14 14:11:00        22389  Shop 0   \n",
       "2      538855   21239         7 2016-12-14 13:50:00        22182  Shop 0   \n",
       "3      543543   22271         0 2017-02-09 15:33:00        23522  Shop 0   \n",
       "4      543812   79321         0 2017-02-13 14:40:00        23151  Shop 0   \n",
       "5      538379   22965         0 2016-12-12 11:26:00        22805  Shop 0   \n",
       "\n",
       "   loyalty_program  price_per_one    month    sum  \n",
       "1                1          3.290  2016-12   0.00  \n",
       "2                1          1.630  2016-12  11.41  \n",
       "3                1          4.370  2017-02   0.00  \n",
       "4                1          5.750  2017-02   0.00  \n",
       "5                1          3.115  2016-12   0.00  "
      ]
     },
     "execution_count": 37,
     "metadata": {},
     "output_type": "execute_result"
    }
   ],
   "source": [
    "data_true = data[data['loyalty_program']==1]\n",
    "data_true.head()"
   ]
  },
  {
   "cell_type": "code",
   "execution_count": 38,
   "id": "832705ee",
   "metadata": {},
   "outputs": [
    {
     "data": {
      "text/html": [
       "<div>\n",
       "<style scoped>\n",
       "    .dataframe tbody tr th:only-of-type {\n",
       "        vertical-align: middle;\n",
       "    }\n",
       "\n",
       "    .dataframe tbody tr th {\n",
       "        vertical-align: top;\n",
       "    }\n",
       "\n",
       "    .dataframe thead th {\n",
       "        text-align: right;\n",
       "    }\n",
       "</style>\n",
       "<table border=\"1\" class=\"dataframe\">\n",
       "  <thead>\n",
       "    <tr style=\"text-align: right;\">\n",
       "      <th></th>\n",
       "      <th>purchase_id</th>\n",
       "      <th>item_id</th>\n",
       "      <th>quantity</th>\n",
       "      <th>purchase_date</th>\n",
       "      <th>customer_id</th>\n",
       "      <th>shop_id</th>\n",
       "      <th>loyalty_program</th>\n",
       "      <th>price_per_one</th>\n",
       "      <th>month</th>\n",
       "      <th>sum</th>\n",
       "    </tr>\n",
       "  </thead>\n",
       "  <tbody>\n",
       "    <tr>\n",
       "      <th>0</th>\n",
       "      <td>538280</td>\n",
       "      <td>21873</td>\n",
       "      <td>11</td>\n",
       "      <td>2016-12-10 12:50:00</td>\n",
       "      <td>18427</td>\n",
       "      <td>Shop 0</td>\n",
       "      <td>0</td>\n",
       "      <td>1.63</td>\n",
       "      <td>2016-12</td>\n",
       "      <td>17.93</td>\n",
       "    </tr>\n",
       "    <tr>\n",
       "      <th>6</th>\n",
       "      <td>540468</td>\n",
       "      <td>22189</td>\n",
       "      <td>0</td>\n",
       "      <td>2017-01-07 13:55:00</td>\n",
       "      <td>-1</td>\n",
       "      <td>Shop 0</td>\n",
       "      <td>0</td>\n",
       "      <td>3.95</td>\n",
       "      <td>2017-01</td>\n",
       "      <td>0.00</td>\n",
       "    </tr>\n",
       "    <tr>\n",
       "      <th>7</th>\n",
       "      <td>541424</td>\n",
       "      <td>79321</td>\n",
       "      <td>1</td>\n",
       "      <td>2017-01-17 17:57:00</td>\n",
       "      <td>-1</td>\n",
       "      <td>Shop 0</td>\n",
       "      <td>0</td>\n",
       "      <td>5.75</td>\n",
       "      <td>2017-01</td>\n",
       "      <td>5.75</td>\n",
       "    </tr>\n",
       "    <tr>\n",
       "      <th>8</th>\n",
       "      <td>538883</td>\n",
       "      <td>22891</td>\n",
       "      <td>0</td>\n",
       "      <td>2016-12-14 15:56:00</td>\n",
       "      <td>-1</td>\n",
       "      <td>Shop 0</td>\n",
       "      <td>0</td>\n",
       "      <td>6.27</td>\n",
       "      <td>2016-12</td>\n",
       "      <td>0.00</td>\n",
       "    </tr>\n",
       "    <tr>\n",
       "      <th>11</th>\n",
       "      <td>541696</td>\n",
       "      <td>22197</td>\n",
       "      <td>4</td>\n",
       "      <td>2017-01-20 18:08:00</td>\n",
       "      <td>-1</td>\n",
       "      <td>Shop 0</td>\n",
       "      <td>0</td>\n",
       "      <td>1.24</td>\n",
       "      <td>2017-01</td>\n",
       "      <td>4.96</td>\n",
       "    </tr>\n",
       "  </tbody>\n",
       "</table>\n",
       "</div>"
      ],
      "text/plain": [
       "   purchase_id item_id  quantity       purchase_date  customer_id shop_id  \\\n",
       "0       538280   21873        11 2016-12-10 12:50:00        18427  Shop 0   \n",
       "6       540468   22189         0 2017-01-07 13:55:00           -1  Shop 0   \n",
       "7       541424   79321         1 2017-01-17 17:57:00           -1  Shop 0   \n",
       "8       538883   22891         0 2016-12-14 15:56:00           -1  Shop 0   \n",
       "11      541696   22197         4 2017-01-20 18:08:00           -1  Shop 0   \n",
       "\n",
       "    loyalty_program  price_per_one    month    sum  \n",
       "0                 0           1.63  2016-12  17.93  \n",
       "6                 0           3.95  2017-01   0.00  \n",
       "7                 0           5.75  2017-01   5.75  \n",
       "8                 0           6.27  2016-12   0.00  \n",
       "11                0           1.24  2017-01   4.96  "
      ]
     },
     "execution_count": 38,
     "metadata": {},
     "output_type": "execute_result"
    }
   ],
   "source": [
    "data_false = data[data['loyalty_program']==0]\n",
    "data_false.head()"
   ]
  },
  {
   "cell_type": "markdown",
   "id": "8d4dd639",
   "metadata": {},
   "source": [
    "Посчитаем средний чек для участников программы лояльности. Для начала напишем функцию расчета среднего чека."
   ]
  },
  {
   "cell_type": "code",
   "execution_count": 39,
   "id": "6e49ddff",
   "metadata": {},
   "outputs": [],
   "source": [
    "def mean_check(data):\n",
    "    # посчитаем общую сумму каждой покупки\n",
    "    data_check = data.groupby('purchase_id', as_index=False)['sum'].sum()\n",
    "    data_check = data_check[data_check['sum']!=0] # отбросим некорректные данные с нулевой суммой покупки\n",
    "    data_check = data_check['sum'].median() # посчитаем общую среднюю сумму покупки\n",
    "    return data_check"
   ]
  },
  {
   "cell_type": "markdown",
   "id": "4af776ae",
   "metadata": {},
   "source": [
    "Посчитаем средний чек и отобразим результаты на графике."
   ]
  },
  {
   "cell_type": "code",
   "execution_count": 40,
   "id": "e602aff5",
   "metadata": {},
   "outputs": [
    {
     "data": {
      "image/png": "[encoded data removed]",
      "text/plain": [
       "<Figure size 640x480 with 1 Axes>"
      ]
     },
     "metadata": {},
     "output_type": "display_data"
    }
   ],
   "source": [
    "data_check_true = mean_check(data_true)\n",
    "data_check_false = mean_check(data_false)\n",
    "\n",
    "ax = sns.barplot(\n",
    "    y=[data_check_false, data_check_true], \n",
    "    x=['Обычный покупатель', 'Участник программы лояльности'], \n",
    "    palette='pastel')\n",
    "\n",
    "ax.set_title('Средний чек в разрезе категории покупателя')\n",
    "ax.set_xlabel('Категория покупателя')\n",
    "ax.set_ylabel('Средний чек, в рублях')\n",
    "ax.bar_label(ax.containers[0]);"
   ]
  },
  {
   "cell_type": "markdown",
   "id": "b55d1050",
   "metadata": {},
   "source": [
    "Из графика следует, что средний чек участников программы лояльности немного ниже, чем у обычных покупателей. \n",
    "\n",
    "Проверим среднее количество покупок в месяц на одного покупателя. Напишем функцию для расчета:"
   ]
  },
  {
   "cell_type": "code",
   "execution_count": 41,
   "id": "07391b56",
   "metadata": {},
   "outputs": [],
   "source": [
    "def count_purchases(data):\n",
    "    # посчитаем общее кол-во покупок в месяц для каждого покупателя\n",
    "    data_purchase = data.groupby(by=['month', 'customer_id'], as_index=False)['purchase_id'].nunique()\n",
    "    data_purchase = data_purchase[data_purchase['customer_id']!=-1] # отбросим данные с неизвестным покупателем\n",
    "    data_purchase = data_purchase['purchase_id'].mean() # посчитаем общее среднее кол-во покупок\n",
    "    return data_purchase"
   ]
  },
  {
   "cell_type": "markdown",
   "id": "89fbc6b7",
   "metadata": {},
   "source": [
    "Отобразим результаты расчетов на графике."
   ]
  },
  {
   "cell_type": "code",
   "execution_count": 42,
   "id": "32d4b14d",
   "metadata": {},
   "outputs": [
    {
     "data": {
      "image/png": "[encoded data removed]",
      "text/plain": [
       "<Figure size 640x480 with 1 Axes>"
      ]
     },
     "metadata": {},
     "output_type": "display_data"
    }
   ],
   "source": [
    "data_purchase_true = count_purchases(data_true)\n",
    "data_purchase_false = count_purchases(data_false)\n",
    "\n",
    "ax = sns.barplot(\n",
    "    y=[data_purchase_false, data_purchase_true], \n",
    "    x=['Обычный покупатель', 'Участник программы лояльности'], \n",
    "    palette='pastel')\n",
    "\n",
    "ax.set_title('Среднее количество покупок в месяц на одного покупателя в разрезе категории покупателя')\n",
    "ax.set_xlabel('Категория покупателя')\n",
    "ax.set_ylabel('Среднее количество покупок')\n",
    "ax.bar_label(ax.containers[0]);"
   ]
  },
  {
   "cell_type": "markdown",
   "id": "87ef43d0",
   "metadata": {},
   "source": [
    "Участники программы лояльности совершают в среднем немного меньше покупок в месяц, чем обычные покупатели. \n",
    "\n",
    "Посчитаем LTV. Для этого напишем функцию подсчета общей выручки каждого покупателя и возьмём среднее."
   ]
  },
  {
   "cell_type": "code",
   "execution_count": 43,
   "id": "f20979c3",
   "metadata": {},
   "outputs": [],
   "source": [
    "def get_ltv(data):\n",
    "    # посчитаем общую выручку с каждого покупателя\n",
    "    data_ltv = data.groupby('customer_id', as_index=False)['sum'].sum()\n",
    "    data_ltv = data_ltv[data_ltv['customer_id']!=-1] # отбросим данные с неизвестным покупателем\n",
    "    data_ltv = data_ltv['sum'].median() # найдем общую среднюю выручку\n",
    "    return data_ltv"
   ]
  },
  {
   "cell_type": "markdown",
   "id": "b6dc0f81",
   "metadata": {},
   "source": [
    "Посмотрим результаты на графике."
   ]
  },
  {
   "cell_type": "code",
   "execution_count": 44,
   "id": "d81c13a7",
   "metadata": {},
   "outputs": [],
   "source": [
    "data_ltv_true = data_true.groupby('customer_id', as_index=False)['sum'].sum()\n",
    "data_ltv_true = data_ltv_true[data_ltv_true['customer_id']!=-1] # отбросим данные с неизвестным покупателем\n",
    "\n",
    "# подсчитаем кол-во месяцев жизни покупателя\n",
    "count_month = data_true.groupby('customer_id', as_index=False)['month'].nunique()\n",
    "# объединим таблицы и добавим оплату за пользование программой лояльности\n",
    "data_ltv_true = data_ltv_true.merge(count_month, how='left', left_on='customer_id', right_on='customer_id')\n",
    "data_ltv_true['sum'] = data_ltv_true['sum'] + 200 * data_ltv_true['month']\n",
    "\n",
    "data_ltv_true = data_ltv_true['sum'].median() # найдем общую среднюю выручку"
   ]
  },
  {
   "cell_type": "code",
   "execution_count": 45,
   "id": "453a1cac",
   "metadata": {},
   "outputs": [
    {
     "data": {
      "image/png": "[encoded data removed]",
      "text/plain": [
       "<Figure size 640x480 with 1 Axes>"
      ]
     },
     "metadata": {},
     "output_type": "display_data"
    }
   ],
   "source": [
    "data_ltv_false = get_ltv(data_false)\n",
    "\n",
    "ax = sns.barplot(\n",
    "    y=[data_ltv_false, data_ltv_true], \n",
    "    x=['Обычный покупатель', 'Участник программы лояльности'], \n",
    "    palette='pastel')\n",
    "\n",
    "ax.set_title('Средняя прибыль с одного покупателя в разрезе категории покупателя')\n",
    "ax.set_xlabel('Категория покупателя')\n",
    "ax.set_ylabel('Средняя прибыль')\n",
    "ax.bar_label(ax.containers[0]);"
   ]
  },
  {
   "cell_type": "markdown",
   "id": "aa96c5ee",
   "metadata": {},
   "source": [
    "Обычные покупатели в среднем приносят чуть меньше денег, чем покупатели, участвующие в программе лояльности. И чем дольше покупатели будут пользоваться программой лояльности, тем больше будет их LTV.\n",
    "\n",
    "Учитывая все расчеты, можно сделать вывод, что у программы лояльности есть потенциал к развитию, показатели участников программы лояльности или примерно такие же, как у обычных покупателей, или чуть меньше. Но LTV участников программы лояльности будет постоянно увеличиваться."
   ]
  },
  {
   "cell_type": "markdown",
   "id": "78ca6501",
   "metadata": {},
   "source": [
    "### Проверка гипотез\n",
    "\n",
    "Проверим средующие гипотезы:\n",
    "1. Средний чек участников программы лояльности  выше, чем у остальных покупателей;\n",
    "2. Участники программы лояльности совершают больше покупок в месяц, чем остальные покупатели.\n",
    "\n",
    "*Проверим первую гипотезу.*  \n",
    "Н0: Средний чек участников программы лояльности и обычных покупателей одинаковый.  \n",
    "H1: Средний чек участников программы лояльности выше, чем у остальных покупателей.\n",
    "\n",
    "Для начала подготовим нужные данные."
   ]
  },
  {
   "cell_type": "code",
   "execution_count": 46,
   "id": "6ec06169",
   "metadata": {},
   "outputs": [],
   "source": [
    "check_true = data_true.groupby('purchase_id', as_index=False)['sum'].sum()\n",
    "check_true = check_true[check_true['sum']!=0] # отбросим некорректные данные с нулевой суммой покупки\n",
    "\n",
    "check_false = data_false.groupby('purchase_id', as_index=False)['sum'].sum()\n",
    "check_false = check_false[check_false['sum']!=0] # отбросим некорректные данные с нулевой суммой покупки"
   ]
  },
  {
   "cell_type": "markdown",
   "id": "70638569",
   "metadata": {},
   "source": [
    "Проверим данные на нормальность:"
   ]
  },
  {
   "cell_type": "code",
   "execution_count": 47,
   "id": "1e749ab7",
   "metadata": {},
   "outputs": [
    {
     "name": "stdout",
     "output_type": "stream",
     "text": [
      "p-значение:  0.0\n",
      "Отвергаем нулевую гипотезу: распределение не нормально\n"
     ]
    }
   ],
   "source": [
    "alpha = 0.05  # критический уровень статистической значимости\n",
    "\n",
    "results = st.shapiro(check_true['sum'])\n",
    "p_value = results[1]  # второе значение в массиве результатов (с индексом 1) - p-value\n",
    "\n",
    "print('p-значение: ', p_value)\n",
    "\n",
    "if p_value < alpha:\n",
    "    print('Отвергаем нулевую гипотезу: распределение не нормально')\n",
    "else:\n",
    "    print('Не получилось отвергнуть нулевую гипотезу, всё нормально')"
   ]
  },
  {
   "cell_type": "code",
   "execution_count": 48,
   "id": "f7b46502",
   "metadata": {},
   "outputs": [
    {
     "data": {
      "text/plain": [
       "count     1330.000000\n",
       "mean       455.151936\n",
       "std       1106.698178\n",
       "min          1.250000\n",
       "25%         96.781250\n",
       "50%        231.220000\n",
       "75%        482.670000\n",
       "max      23093.560000\n",
       "Name: sum, dtype: float64"
      ]
     },
     "execution_count": 48,
     "metadata": {},
     "output_type": "execute_result"
    }
   ],
   "source": [
    "check_true['sum'].describe()"
   ]
  },
  {
   "cell_type": "code",
   "execution_count": 49,
   "id": "b0f36b84",
   "metadata": {},
   "outputs": [
    {
     "name": "stdout",
     "output_type": "stream",
     "text": [
      "p-значение:  0.0\n",
      "Отвергаем нулевую гипотезу: распределение не нормально\n"
     ]
    }
   ],
   "source": [
    "alpha = 0.05  # критический уровень статистической значимости\n",
    "\n",
    "results = st.shapiro(check_false['sum'])\n",
    "p_value = results[1]  # второе значение в массиве результатов (с индексом 1) - p-value\n",
    "\n",
    "print('p-значение: ', p_value)\n",
    "\n",
    "if p_value < alpha:\n",
    "    print('Отвергаем нулевую гипотезу: распределение не нормально')\n",
    "else:\n",
    "    print('Не получилось отвергнуть нулевую гипотезу, всё нормально')"
   ]
  },
  {
   "cell_type": "code",
   "execution_count": 50,
   "id": "536c14c7",
   "metadata": {},
   "outputs": [
    {
     "data": {
      "text/plain": [
       "count     3336.000000\n",
       "mean       578.920087\n",
       "std       1443.738328\n",
       "min          0.390000\n",
       "25%         73.656250\n",
       "50%        244.157500\n",
       "75%        549.955000\n",
       "max      26374.580000\n",
       "Name: sum, dtype: float64"
      ]
     },
     "execution_count": 50,
     "metadata": {},
     "output_type": "execute_result"
    }
   ],
   "source": [
    "check_false['sum'].describe()"
   ]
  },
  {
   "cell_type": "markdown",
   "id": "c4060b3e",
   "metadata": {},
   "source": [
    "Распределение не нормально, в данных присутствуют выбросы, значит для проверки гипотезы нужно использовать критерий Манна-Уитни.\n",
    "\n",
    "Проверим гипотезы:"
   ]
  },
  {
   "cell_type": "code",
   "execution_count": 51,
   "id": "8141dbab",
   "metadata": {},
   "outputs": [
    {
     "name": "stdout",
     "output_type": "stream",
     "text": [
      "p-значение:  0.4740162947868247\n",
      "Не получилось отвергнуть нулевую гипотезу, вывод о различии сделать нельзя\n",
      "Средний чек участников программы лояльности составляет 231.22\n",
      "Средний чек обычных покупателей составляет 244.1575\n"
     ]
    }
   ],
   "source": [
    "alpha = 0.05  # критический уровень статистической значимости\n",
    "\n",
    "results = st.mannwhitneyu(check_true['sum'], check_false['sum'])\n",
    "\n",
    "print('p-значение: ', results.pvalue)\n",
    "\n",
    "if results.pvalue < alpha:\n",
    "    print('Отвергаем нулевую гипотезу: разница статистически значима')\n",
    "else:\n",
    "    print(\n",
    "        'Не получилось отвергнуть нулевую гипотезу, вывод о различии сделать нельзя'\n",
    "    ) \n",
    "    \n",
    "print('Средний чек участников программы лояльности составляет', check_true['sum'].median())\n",
    "print('Средний чек обычных покупателей составляет', check_false['sum'].median())"
   ]
  },
  {
   "cell_type": "markdown",
   "id": "fa0e681a",
   "metadata": {},
   "source": [
    "*Проверим вторую гипотезу.*  \n",
    "H0: Участники программы лояльности совершают столько же покупок в месяц, сколько и обычные покупатели.  \n",
    "H1: Участники программы лояльности совершают больше покупок в месяц, чем обычные покупатели.\n",
    "\n",
    "Подготовим данные."
   ]
  },
  {
   "cell_type": "code",
   "execution_count": 52,
   "id": "7afdc5d8",
   "metadata": {},
   "outputs": [
    {
     "data": {
      "text/html": [
       "<div>\n",
       "<style scoped>\n",
       "    .dataframe tbody tr th:only-of-type {\n",
       "        vertical-align: middle;\n",
       "    }\n",
       "\n",
       "    .dataframe tbody tr th {\n",
       "        vertical-align: top;\n",
       "    }\n",
       "\n",
       "    .dataframe thead th {\n",
       "        text-align: right;\n",
       "    }\n",
       "</style>\n",
       "<table border=\"1\" class=\"dataframe\">\n",
       "  <thead>\n",
       "    <tr style=\"text-align: right;\">\n",
       "      <th></th>\n",
       "      <th>month</th>\n",
       "      <th>purchase_id</th>\n",
       "    </tr>\n",
       "  </thead>\n",
       "  <tbody>\n",
       "    <tr>\n",
       "      <th>0</th>\n",
       "      <td>2016-12</td>\n",
       "      <td>18.0</td>\n",
       "    </tr>\n",
       "    <tr>\n",
       "      <th>1</th>\n",
       "      <td>2017-01</td>\n",
       "      <td>21.0</td>\n",
       "    </tr>\n",
       "    <tr>\n",
       "      <th>2</th>\n",
       "      <td>2017-02</td>\n",
       "      <td>19.0</td>\n",
       "    </tr>\n",
       "  </tbody>\n",
       "</table>\n",
       "</div>"
      ],
      "text/plain": [
       "     month  purchase_id\n",
       "0  2016-12         18.0\n",
       "1  2017-01         21.0\n",
       "2  2017-02         19.0"
      ]
     },
     "execution_count": 52,
     "metadata": {},
     "output_type": "execute_result"
    }
   ],
   "source": [
    "purchase_true = data_true.groupby(by=['month', 'customer_id'], as_index=False)['purchase_id'].count()\n",
    "purchase_true = purchase_true[purchase_true['customer_id']!=-1] # отбросим данные с неизвестным покупателем\n",
    "purchase_true = purchase_true.groupby('month', as_index=False)['purchase_id'].median()\n",
    "purchase_true"
   ]
  },
  {
   "cell_type": "markdown",
   "id": "0579f700",
   "metadata": {},
   "source": [
    "Проверим распределение на нормальность:"
   ]
  },
  {
   "cell_type": "code",
   "execution_count": 53,
   "id": "568be6ea",
   "metadata": {},
   "outputs": [
    {
     "name": "stdout",
     "output_type": "stream",
     "text": [
      "p-значение:  0.6368856430053711\n",
      "Не получилось отвергнуть нулевую гипотезу, всё нормально\n"
     ]
    }
   ],
   "source": [
    "alpha = 0.05  # критический уровень статистической значимости\n",
    "\n",
    "results = st.shapiro(purchase_true['purchase_id'])\n",
    "p_value = results[1]  # второе значение в массиве результатов (с индексом 1) - p-value\n",
    "\n",
    "print('p-значение: ', p_value)\n",
    "\n",
    "if p_value < alpha:\n",
    "    print('Отвергаем нулевую гипотезу: распределение не нормально')\n",
    "else:\n",
    "    print('Не получилось отвергнуть нулевую гипотезу, всё нормально')"
   ]
  },
  {
   "cell_type": "code",
   "execution_count": 54,
   "id": "9104ad50",
   "metadata": {},
   "outputs": [
    {
     "data": {
      "text/html": [
       "<div>\n",
       "<style scoped>\n",
       "    .dataframe tbody tr th:only-of-type {\n",
       "        vertical-align: middle;\n",
       "    }\n",
       "\n",
       "    .dataframe tbody tr th {\n",
       "        vertical-align: top;\n",
       "    }\n",
       "\n",
       "    .dataframe thead th {\n",
       "        text-align: right;\n",
       "    }\n",
       "</style>\n",
       "<table border=\"1\" class=\"dataframe\">\n",
       "  <thead>\n",
       "    <tr style=\"text-align: right;\">\n",
       "      <th></th>\n",
       "      <th>month</th>\n",
       "      <th>purchase_id</th>\n",
       "    </tr>\n",
       "  </thead>\n",
       "  <tbody>\n",
       "    <tr>\n",
       "      <th>0</th>\n",
       "      <td>2016-12</td>\n",
       "      <td>17.0</td>\n",
       "    </tr>\n",
       "    <tr>\n",
       "      <th>1</th>\n",
       "      <td>2017-01</td>\n",
       "      <td>19.0</td>\n",
       "    </tr>\n",
       "    <tr>\n",
       "      <th>2</th>\n",
       "      <td>2017-02</td>\n",
       "      <td>16.0</td>\n",
       "    </tr>\n",
       "  </tbody>\n",
       "</table>\n",
       "</div>"
      ],
      "text/plain": [
       "     month  purchase_id\n",
       "0  2016-12         17.0\n",
       "1  2017-01         19.0\n",
       "2  2017-02         16.0"
      ]
     },
     "execution_count": 54,
     "metadata": {},
     "output_type": "execute_result"
    }
   ],
   "source": [
    "purchase_false = data_false.groupby(by=['month', 'customer_id'], as_index=False)['purchase_id'].count()\n",
    "purchase_false = purchase_false[purchase_false['customer_id']!=-1] # отбросим данные с неизвестным покупателем\n",
    "purchase_false = purchase_false.groupby('month', as_index=False)['purchase_id'].median()\n",
    "purchase_false"
   ]
  },
  {
   "cell_type": "markdown",
   "id": "c5d6fac2",
   "metadata": {},
   "source": [
    "Проверим распределение на нормальность:"
   ]
  },
  {
   "cell_type": "code",
   "execution_count": 55,
   "id": "123eed22",
   "metadata": {},
   "outputs": [
    {
     "name": "stdout",
     "output_type": "stream",
     "text": [
      "p-значение:  0.6368856430053711\n",
      "Не получилось отвергнуть нулевую гипотезу, всё нормально\n"
     ]
    }
   ],
   "source": [
    "alpha = 0.05  # критический уровень статистической значимости\n",
    "\n",
    "results = st.shapiro(purchase_false['purchase_id'])\n",
    "p_value = results[1]  # второе значение в массиве результатов (с индексом 1) - p-value\n",
    "\n",
    "print('p-значение: ', p_value)\n",
    "\n",
    "if p_value < alpha:\n",
    "    print('Отвергаем нулевую гипотезу: распределение не нормально')\n",
    "else:\n",
    "    print('Не получилось отвергнуть нулевую гипотезу, всё нормально')"
   ]
  },
  {
   "cell_type": "markdown",
   "id": "5eb87943",
   "metadata": {},
   "source": [
    "Распределение нормально. Поэтому для проверки гипотезы можно использовать ttest.\n",
    "\n",
    "Проверим гипотезы:"
   ]
  },
  {
   "cell_type": "code",
   "execution_count": 56,
   "id": "87d43342",
   "metadata": {},
   "outputs": [
    {
     "name": "stdout",
     "output_type": "stream",
     "text": [
      "p-значение: 0.09203701597528845\n",
      "Не получилось отвергнуть нулевую гипотезу: возможно, участники программы лояльности совершают примерно столько же покупок в месяц, сколько и обычные покупатели\n",
      "Среднее количество покупок в месяц на участника программы лояльности состаляет 1.574443141852286\n",
      "Среднее количество покупок в месяц на обычного покупателя состаляет 1.6700537955768082\n"
     ]
    }
   ],
   "source": [
    "alpha = 0.05 # зададим порог отбрасывания нулевой гипотезы\n",
    "\n",
    "# подсчитаем вероятность того, что нулевая гипотеза может быть верна\n",
    "results = st.ttest_ind(purchase_true['purchase_id'], purchase_false['purchase_id'], alternative='greater')\n",
    "\n",
    "print('p-значение:', results.pvalue)\n",
    "\n",
    "# сравним полученное значение с пороговым\n",
    "if results.pvalue < alpha:\n",
    "    print('Отвергаем нулевую гипотезу: есть основания полагать, что участник программы лояльности совершают больше покупок в месяц, чем обычные покупатели')\n",
    "else:\n",
    "    print('Не получилось отвергнуть нулевую гипотезу: возможно, участники программы лояльности совершают примерно столько же покупок в месяц, сколько и обычные покупатели')\n",
    "    \n",
    "print('Среднее количество покупок в месяц на участника программы лояльности состаляет', data_purchase_true)\n",
    "print('Среднее количество покупок в месяц на обычного покупателя состаляет', data_purchase_false)"
   ]
  },
  {
   "cell_type": "markdown",
   "id": "73e4faf6",
   "metadata": {},
   "source": [
    "### Выводы и рекомендации:\n",
    "\n",
    "Целью данного проекта являлась оценка эффективности программы лояльности.\n",
    "\n",
    "На этапе предобработки данных были преобразованы типы данных, удалены дубликаты, обработаны пропуски и выполнена проверка на неявные дубликаты.\n",
    "\n",
    "Далее изучили полученные данные и сделали промежуточные выводы:\n",
    "1. И для участников программы лояльности, и для обычных покупателей больше всего заказов было в декабре, а меньше всего в январе. В январе очень много выходных, поэтому, возможно именно этим вызвано малое количество заказов. А в декабре сезонные покупки к новому году.\n",
    "2. И участников программы лояльности, и обычных покупателей больше всего было в декабре, а в январе и феврале примерно одинаковое количество.\n",
    "3. Все основные продажи приходятся только на один магазин - Shop 0. Это выглядит довольно странно и, возможно, вызвано ошибкой в данных.\n",
    "\n",
    "Далее были расчитаны ритейл метрики. По результатам расчетов можно сделать следующие выводы:\n",
    "1. Средний чек участников программы лояльности чуть ниже, чем у обычных покупателей.\n",
    "2. Участники программы лояльности совершают в среднем чуть меньше покупок в месяц, чем обычные покупатели.\n",
    "3. Участники программы лояльности, в среднем, приносят чуть больше денег, чем обычные покупатели. И их LTV с каждым месяцем будет только увеличиваться.\n",
    "\n",
    "Далее были подготовлены данные для проверки гипотез. При проверке гипотез были получены следующие результаты:\n",
    "1. Средний чек участников программы лояльности впримерно такой же, как у остальных покупателей. Разница в среднем чеке не является статистической значимой.\n",
    "2. Участники программы лояльности совершают примерно столько же покупок в месяц, сколько и обычные покупатели. Разница в среднем количестве покупок также не является статистически значимой.\n",
    "\n",
    "Из всего вышеперечисленного, можно сформировать итоговый вывод:\n",
    "\n",
    "**Программа лояльности неэффективна, но имеет потенциал к развитию**. Показатели участников программы лояльности чуть ниже или примерно такие же, чем у остальных покупателей. Но с каждым месяцем их LTV будет расти, поэтому программа имеет потенциал.\n",
    "\n",
    "В качестве рекомендаций можно посоветовать следующее:\n",
    "1. Запустить накопительную бонусную программу, что заставляло бы покупателей заходить именно в этот магазин и совершать больше покупок.\n",
    "2. Разобраться с корректностью данных по продажам в филиалах магазина. Возможно при увеличении продаж в других магазинах, показатели эффективности изменятся, т.к. датасет, в основном, содержит данные только по одному филиалу.\n",
    "3. Увеличить временной промежуток времени, за который проводится анализ эффективности."
   ]
  },
  {
   "cell_type": "markdown",
   "id": "c065ce4a",
   "metadata": {},
   "source": [
    "Презентация: https://disk.yandex.ru/i/JKCo0YgwOKrZeA  \n",
    "Дашборд: https://public.tableau.com/views/_16961753320280/sheet2?:language=en-US&publish=yes&:display_count=n&:origin=viz_share_link"
   ]
  }
 ],
 "metadata": {
  "ExecuteTimeLog": [
   {
    "duration": 99,
    "start_time": "2023-09-29T05:41:06.731Z"
   },
   {
    "duration": 1537,
    "start_time": "2023-09-30T15:36:06.722Z"
   },
   {
    "duration": 553,
    "start_time": "2023-09-30T15:36:08.261Z"
   },
   {
    "duration": 19,
    "start_time": "2023-09-30T15:36:08.816Z"
   },
   {
    "duration": 19,
    "start_time": "2023-09-30T15:36:08.837Z"
   },
   {
    "duration": 169,
    "start_time": "2023-09-30T15:36:08.858Z"
   },
   {
    "duration": 17,
    "start_time": "2023-09-30T15:36:09.029Z"
   },
   {
    "duration": 29,
    "start_time": "2023-09-30T15:36:09.048Z"
   },
   {
    "duration": 18,
    "start_time": "2023-09-30T15:36:09.079Z"
   },
   {
    "duration": 61,
    "start_time": "2023-09-30T15:36:09.099Z"
   },
   {
    "duration": 119,
    "start_time": "2023-09-30T15:36:09.163Z"
   },
   {
    "duration": 7,
    "start_time": "2023-09-30T15:36:09.284Z"
   },
   {
    "duration": 27,
    "start_time": "2023-09-30T15:36:09.293Z"
   },
   {
    "duration": 18,
    "start_time": "2023-09-30T15:36:09.322Z"
   },
   {
    "duration": 91,
    "start_time": "2023-09-30T15:36:09.342Z"
   },
   {
    "duration": 39,
    "start_time": "2023-09-30T15:36:09.435Z"
   },
   {
    "duration": 39,
    "start_time": "2023-09-30T15:36:09.475Z"
   },
   {
    "duration": 26,
    "start_time": "2023-09-30T15:36:09.516Z"
   },
   {
    "duration": 6,
    "start_time": "2023-09-30T15:36:09.544Z"
   },
   {
    "duration": 78,
    "start_time": "2023-09-30T15:36:09.551Z"
   },
   {
    "duration": 49,
    "start_time": "2023-09-30T15:36:09.631Z"
   },
   {
    "duration": 39,
    "start_time": "2023-09-30T15:36:09.682Z"
   },
   {
    "duration": 18,
    "start_time": "2023-09-30T15:36:09.722Z"
   },
   {
    "duration": 12,
    "start_time": "2023-09-30T15:36:09.741Z"
   },
   {
    "duration": 15,
    "start_time": "2023-09-30T15:36:09.755Z"
   },
   {
    "duration": 17,
    "start_time": "2023-09-30T15:36:09.772Z"
   },
   {
    "duration": 169,
    "start_time": "2023-09-30T15:36:09.791Z"
   },
   {
    "duration": 16,
    "start_time": "2023-09-30T15:36:09.962Z"
   },
   {
    "duration": 34,
    "start_time": "2023-09-30T15:36:09.981Z"
   },
   {
    "duration": 141,
    "start_time": "2023-09-30T15:36:10.016Z"
   },
   {
    "duration": 8,
    "start_time": "2023-09-30T15:36:10.159Z"
   },
   {
    "duration": 17,
    "start_time": "2023-09-30T15:36:10.169Z"
   },
   {
    "duration": 526,
    "start_time": "2023-09-30T15:36:10.188Z"
   },
   {
    "duration": 21,
    "start_time": "2023-09-30T15:36:10.716Z"
   },
   {
    "duration": 14,
    "start_time": "2023-09-30T15:36:10.739Z"
   },
   {
    "duration": 340,
    "start_time": "2023-09-30T15:36:10.755Z"
   },
   {
    "duration": 0,
    "start_time": "2023-09-30T15:36:11.096Z"
   },
   {
    "duration": 0,
    "start_time": "2023-09-30T15:36:11.098Z"
   },
   {
    "duration": 0,
    "start_time": "2023-09-30T15:36:11.109Z"
   },
   {
    "duration": 0,
    "start_time": "2023-09-30T15:36:11.111Z"
   },
   {
    "duration": 0,
    "start_time": "2023-09-30T15:36:11.113Z"
   },
   {
    "duration": 0,
    "start_time": "2023-09-30T15:36:11.115Z"
   },
   {
    "duration": 0,
    "start_time": "2023-09-30T15:36:11.116Z"
   },
   {
    "duration": 0,
    "start_time": "2023-09-30T15:36:11.118Z"
   },
   {
    "duration": 1,
    "start_time": "2023-09-30T15:36:11.119Z"
   },
   {
    "duration": 0,
    "start_time": "2023-09-30T15:36:11.121Z"
   },
   {
    "duration": 0,
    "start_time": "2023-09-30T15:36:11.123Z"
   },
   {
    "duration": 1,
    "start_time": "2023-09-30T15:36:11.124Z"
   },
   {
    "duration": 0,
    "start_time": "2023-09-30T15:36:11.126Z"
   },
   {
    "duration": 0,
    "start_time": "2023-09-30T15:36:11.127Z"
   },
   {
    "duration": 0,
    "start_time": "2023-09-30T15:36:11.129Z"
   },
   {
    "duration": 0,
    "start_time": "2023-09-30T15:36:11.130Z"
   },
   {
    "duration": 0,
    "start_time": "2023-09-30T15:36:11.132Z"
   },
   {
    "duration": 0,
    "start_time": "2023-09-30T15:36:11.133Z"
   },
   {
    "duration": 0,
    "start_time": "2023-09-30T15:36:11.134Z"
   },
   {
    "duration": 0,
    "start_time": "2023-09-30T15:36:11.136Z"
   },
   {
    "duration": 82,
    "start_time": "2023-09-30T15:41:46.463Z"
   },
   {
    "duration": 243,
    "start_time": "2023-09-30T15:42:24.097Z"
   },
   {
    "duration": 0,
    "start_time": "2023-09-30T15:42:24.342Z"
   },
   {
    "duration": 0,
    "start_time": "2023-09-30T15:42:24.344Z"
   },
   {
    "duration": 0,
    "start_time": "2023-09-30T15:42:24.345Z"
   },
   {
    "duration": 0,
    "start_time": "2023-09-30T15:42:24.346Z"
   },
   {
    "duration": 0,
    "start_time": "2023-09-30T15:42:24.348Z"
   },
   {
    "duration": 0,
    "start_time": "2023-09-30T15:42:24.348Z"
   },
   {
    "duration": 0,
    "start_time": "2023-09-30T15:42:24.350Z"
   },
   {
    "duration": 0,
    "start_time": "2023-09-30T15:42:24.351Z"
   },
   {
    "duration": 0,
    "start_time": "2023-09-30T15:42:24.352Z"
   },
   {
    "duration": 0,
    "start_time": "2023-09-30T15:42:24.353Z"
   },
   {
    "duration": 0,
    "start_time": "2023-09-30T15:42:24.354Z"
   },
   {
    "duration": 0,
    "start_time": "2023-09-30T15:42:24.357Z"
   },
   {
    "duration": 0,
    "start_time": "2023-09-30T15:42:24.358Z"
   },
   {
    "duration": 0,
    "start_time": "2023-09-30T15:42:24.359Z"
   },
   {
    "duration": 0,
    "start_time": "2023-09-30T15:42:24.361Z"
   },
   {
    "duration": 0,
    "start_time": "2023-09-30T15:42:24.362Z"
   },
   {
    "duration": 0,
    "start_time": "2023-09-30T15:42:24.363Z"
   },
   {
    "duration": 0,
    "start_time": "2023-09-30T15:42:24.364Z"
   },
   {
    "duration": 0,
    "start_time": "2023-09-30T15:42:24.365Z"
   },
   {
    "duration": 432,
    "start_time": "2023-09-30T15:42:33.551Z"
   },
   {
    "duration": 16,
    "start_time": "2023-09-30T15:42:34.638Z"
   },
   {
    "duration": 18,
    "start_time": "2023-09-30T15:42:34.860Z"
   },
   {
    "duration": 4,
    "start_time": "2023-09-30T15:42:35.262Z"
   },
   {
    "duration": 145,
    "start_time": "2023-09-30T15:42:35.653Z"
   },
   {
    "duration": 5,
    "start_time": "2023-09-30T15:42:36.237Z"
   },
   {
    "duration": 164,
    "start_time": "2023-09-30T15:42:36.990Z"
   },
   {
    "duration": 3,
    "start_time": "2023-09-30T15:42:37.335Z"
   },
   {
    "duration": 18,
    "start_time": "2023-09-30T15:42:37.709Z"
   },
   {
    "duration": 147,
    "start_time": "2023-09-30T15:42:37.902Z"
   },
   {
    "duration": 22,
    "start_time": "2023-09-30T15:42:38.896Z"
   },
   {
    "duration": 5,
    "start_time": "2023-09-30T15:42:39.373Z"
   },
   {
    "duration": 6,
    "start_time": "2023-09-30T15:42:39.558Z"
   },
   {
    "duration": 17,
    "start_time": "2023-09-30T15:42:39.958Z"
   },
   {
    "duration": 26,
    "start_time": "2023-09-30T15:42:40.335Z"
   },
   {
    "duration": 7,
    "start_time": "2023-09-30T15:42:40.911Z"
   },
   {
    "duration": 35,
    "start_time": "2023-09-30T15:42:41.110Z"
   },
   {
    "duration": 7,
    "start_time": "2023-09-30T15:42:41.502Z"
   },
   {
    "duration": 8,
    "start_time": "2023-09-30T15:42:41.878Z"
   }
  ],
  "kernelspec": {
   "display_name": "Python 3 (ipykernel)",
   "language": "python",
   "name": "python3"
  },
  "language_info": {
   "codemirror_mode": {
    "name": "ipython",
    "version": 3
   },
   "file_extension": ".py",
   "mimetype": "text/x-python",
   "name": "python",
   "nbconvert_exporter": "python",
   "pygments_lexer": "ipython3",
   "version": "3.10.9"
  },
  "toc": {
   "base_numbering": 1,
   "nav_menu": {},
   "number_sections": true,
   "sideBar": true,
   "skip_h1_title": true,
   "title_cell": "Table of Contents",
   "title_sidebar": "Contents",
   "toc_cell": false,
   "toc_position": {},
   "toc_section_display": true,
   "toc_window_display": false
  }
 },
 "nbformat": 4,
 "nbformat_minor": 5
}
